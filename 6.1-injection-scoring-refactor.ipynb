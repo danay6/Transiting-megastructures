{
 "cells": [
  {
   "cell_type": "code",
   "execution_count": 8,
   "id": "9ee9c79c-018a-4b4f-b440-d3e327c6a850",
   "metadata": {
    "tags": [
     "imports"
    ]
   },
   "outputs": [
    {
     "name": "stdout",
     "output_type": "stream",
     "text": [
      "The autoreload extension is already loaded. To reload it, use:\n",
      "  %reload_ext autoreload\n"
     ]
    }
   ],
   "source": [
    "import gc\n",
    "import matplotlib.pyplot as plt\n",
    "import numpy as np\n",
    "import pandas as pd\n",
    "import pickle\n",
    "import sys\n",
    "from sklearn.neighbors import NearestNeighbors\n",
    "from multiprocessing import Pool\n",
    "sys.path.append('..')\n",
    "import loaders\n",
    "import data\n",
    "from extern.quarterTools import data_scaler\n",
    "\n",
    "import warnings\n",
    "from lightkurve import LightkurveWarning\n",
    "warnings.filterwarnings(\"ignore\", category=LightkurveWarning)\n",
    "\n",
    "\n",
    "\n",
    "SEED = 12345\n",
    "%load_ext autoreload\n",
    "%autoreload 2"
   ]
  },
  {
   "cell_type": "code",
   "execution_count": 9,
   "id": "1b3967cc-679f-4366-93ef-2b4ef14726e0",
   "metadata": {
    "tags": []
   },
   "outputs": [],
   "source": [
    "### Uncomment to mount the drive and/or bucket\n",
    "\n",
    "# #lcs stored on drive for quick access\n",
    "# data.mount_drive('/mnt/disks/lcs/')\n",
    "\n",
    "# #other data products stored on google bucket\n",
    "# !gcsfuse --implicit-dirs tess-goddard-lcs /home/jupyter/mountpoint"
   ]
  },
  {
   "cell_type": "markdown",
   "id": "f0428877-70b8-449a-bb6a-268d84ab45e7",
   "metadata": {},
   "source": [
    "# Features"
   ]
  },
  {
   "cell_type": "code",
   "execution_count": 10,
   "id": "4fbbb353-0548-4711-af96-9c6139ee7eca",
   "metadata": {
    "tags": []
   },
   "outputs": [],
   "source": [
    "from extern import features"
   ]
  },
  {
   "cell_type": "code",
   "execution_count": 50,
   "id": "10b02b2a-d1dd-49f7-837e-64088ebcf2d7",
   "metadata": {},
   "outputs": [],
   "source": [
    "def get_subset(s):\n",
    "    \"\"\"Returns the subset features used to rescore a sector.\n",
    "    \n",
    "    Note: only Sector 18 has been rescored and had the reference subset\n",
    "    saved as of 7/7/2023. \n",
    "    \"\"\"\n",
    "    try:\n",
    "        df = feats  # if feats is defined in an earlier block\n",
    "    except:\n",
    "        datafile = \"/home/jupyter/mountpoint/dataproducts/db.v2.h5\"\n",
    "        df = pd.read_hdf(datafile, f\"S{s}/features\")\n",
    "\n",
    "    subset_tics = np.loadtxt(f\"/home/jupyter/mountpoint/dataproducts/s{s}_score_reference.txt\")\n",
    "    sample_subset = df.loc[subset_tics]\n",
    "    return sample_subset\n",
    "\n",
    "from sklearn import preprocessing\n",
    "\n",
    "def data_scaler(data_to_scale, s=18):\n",
    "    \"\"\"Scales given features by the same factors as the given sector.\n",
    "    \n",
    "    This method recalculates the factors needed to scale each feature for a\n",
    "    given sector. The features are scaled and shifted such that each set of\n",
    "    features has a mean of zero and a standard deviation of one for\n",
    "    the features calculated for all light curves in the given sector.\n",
    "    \n",
    "    Though possible, newly scaled data should not be expected to have a mean\n",
    "    of zero or a standard a deviation of one for any feature.\n",
    "    \"\"\"\n",
    "    try:\n",
    "        df = feats.iloc[:, 0:61]\n",
    "    except: \n",
    "        datafile = \"/home/jupyter/mountpoint/dataproducts/db.v2.h5\"\n",
    "        df = pd.read_hdf(datafile, f\"S{s}/features\")[:, 0:61]  # including mstat but not astat\n",
    "\n",
    "    scaler = preprocessing.StandardScaler().fit(df)\n",
    "    scaled = scaler.transform(data_to_scale)\n",
    "    scaled = pd.DataFrame(index=data_to_scale.index,\n",
    "                                columns=df.columns,\n",
    "                                data=scaled)\n",
    "    return scaled\n",
    "\n",
    "def score_scaler(score):\n",
    "    \"\"\"Rescales \"raw\" scores to match Sector 18 rescored\n",
    "    \n",
    "    Calculated based on reference points. Not perfect, but pretty good\n",
    "    Note: can't do similar to data_scaler because \"raw\" scores aren't saved\n",
    "    \"\"\"\n",
    "    factor = 0.00018255470902209855\n",
    "    offset = -4.34047914797675e-12\n",
    "    scaled = score*factor+offset\n",
    "    return scaled\n",
    "\n",
    "def dist_scores(ref_data, d2s=None, k=1, scaler=False):\n",
    "    \"\"\"\n",
    "    This method calculates the distance to the k-th neighbor in the reference data\n",
    "    Args:\n",
    "        ref_data (Numpy array or Pandas dataframe) - The reference data to which\n",
    "            distances will be calculated\n",
    "        d2s (Numpy array or Pandas dataframe) - Data to be scored (if None,\n",
    "            same as the reference data)\n",
    "        k (integer) - neighbor to calculate the distance\n",
    "\n",
    "    Returns:\n",
    "        scores (Numpy array) - distances for data in d2s.\n",
    "    \"\"\"\n",
    "\n",
    "\n",
    "    if isinstance(d2s, type(None)):\n",
    "        # if d2s is a dataframe, the evaluation of d2s==None tries to compare\n",
    "        # every value of the dataframe to None, instead we check if it's\n",
    "        # NoneType\n",
    "        d2s = ref_data  # will default to full data if d2s is not specified\n",
    "\n",
    "    if isinstance(scaler, type(data_scaler)):\n",
    "        ref_data = scaler(ref_data)\n",
    "        d2s = scaler(d2s)\n",
    "    nbrs = NearestNeighbors(\n",
    "        n_neighbors=k+1, algorithm='ball_tree', n_jobs=-1).fit(ref_data)\n",
    "    distances, indices = nbrs.kneighbors(d2s)\n",
    "\n",
    "    scores = score_scaler(distances[:, k])\n",
    "\n",
    "    return scores"
   ]
  },
  {
   "cell_type": "code",
   "execution_count": 56,
   "id": "2054dc35-408e-485e-bb56-78827690f2d4",
   "metadata": {
    "tags": []
   },
   "outputs": [
    {
     "name": "stdout",
     "output_type": "stream",
     "text": [
      "        Flux1     Flux2     Flux3     Flux4     Flux5     Flux6     Flux7  \\\n",
      "0    1.012746  1.012746  1.012746  1.012746  1.012746  1.012746  1.012746   \n",
      "1    1.011068  1.011068  1.011068  1.011068  1.011068  1.011068  1.011068   \n",
      "2    1.013019  1.013019  1.013019  1.013019  1.013019  1.013019  1.013019   \n",
      "3    1.012968  1.012968  1.012968  1.012968  1.012968  1.012968  1.012968   \n",
      "4    1.010584  1.010584  1.010584  1.010584  1.010584  1.010584  1.010584   \n",
      "..        ...       ...       ...       ...       ...       ...       ...   \n",
      "879  1.000188  1.000188  1.000188  1.000188  1.000188  1.000188  1.000188   \n",
      "880  0.998662  0.998662  0.998662  0.998662  0.998662  0.998662  0.998662   \n",
      "881  0.998772  0.998772  0.998772  0.998772  0.998772  0.998772  0.998772   \n",
      "882  0.995496  0.995496  0.995496  0.995496  0.995496  0.995496  0.995496   \n",
      "883  1.005002  1.005002  1.005002  1.005002  1.005002  1.005002  1.005002   \n",
      "\n",
      "        Flux8     Flux9    Flux10    Flux11    Flux12       Time    Depths  \\\n",
      "0    1.012746  1.012746  1.012746  1.012746  1.012746   0.000000  0.051828   \n",
      "1    1.011068  1.011068  1.011068  1.011068  1.011068   0.020833  0.135801   \n",
      "2    1.013019  1.013019  1.013019  1.013019  1.013019   0.041666  0.224280   \n",
      "3    1.012968  1.012968  1.012968  1.012968  1.012968   0.062500  0.313001   \n",
      "4    1.010584  1.010584  1.010584  1.010584  1.010584   0.083333  0.405531   \n",
      "..        ...       ...       ...       ...       ...        ...       ...   \n",
      "879  1.000188  1.000188  1.000188  1.000188  1.000188  22.770410       NaN   \n",
      "880  0.998662  0.998662  0.998662  0.998662  0.998662  22.791242       NaN   \n",
      "881  0.998772  0.998772  0.998772  0.998772  0.998772  22.812075       NaN   \n",
      "882  0.995496  0.995496  0.995496  0.995496  0.995496  22.832908       NaN   \n",
      "883  1.005002  1.005002  1.005002  1.005002  1.005002  22.853740       NaN   \n",
      "\n",
      "       Mstats  \n",
      "0    1.498418  \n",
      "1    1.499888  \n",
      "2    1.498956  \n",
      "3    1.495778  \n",
      "4    1.488913  \n",
      "..        ...  \n",
      "879       NaN  \n",
      "880       NaN  \n",
      "881       NaN  \n",
      "882       NaN  \n",
      "883       NaN  \n",
      "\n",
      "[884 rows x 15 columns]\n"
     ]
    },
    {
     "data": {
      "image/png": "[encoded data removed]",
      "text/plain": [
       "<Figure size 432x288 with 1 Axes>"
      ]
     },
     "metadata": {
      "needs_background": "light"
     },
     "output_type": "display_data"
    }
   ],
   "source": [
    "shape = \"Circle\"\n",
    "fluxes = pd.read_csv(\"subplot_data/\"+shape+ \"_depth.csv\")\n",
    "for num in range(1,7):\n",
    "    plt.plot(fluxes['Time'].values,fluxes[\"Flux%s\" %(num)].values)\n",
    "print(fluxes)\n"
   ]
  },
  {
   "cell_type": "markdown",
   "id": "a668f7e2-d3fa-4d98-8122-93d48559bda9",
   "metadata": {},
   "source": [
    "# Begin Refactor"
   ]
  },
  {
   "cell_type": "code",
   "execution_count": 111,
   "id": "718d78ac-0f14-4c4f-b035-9fbc82ffb3b3",
   "metadata": {
    "tags": []
   },
   "outputs": [],
   "source": [
    "\"\"\"Dan Comment\n",
    "Put all your global variables up at the top, everything that only\n",
    "needs to be defined once\n",
    "\"\"\"\n",
    "feats = pd.read_hdf(\"/home/jupyter/mountpoint/dataproducts/db.v2.h5\", \"S18/features\")\n",
    "sector_scores = pd.read_hdf(\"/home/jupyter/mountpoint/dataproducts/s18rescore.h5\", \"S18/scores\")\n",
    "sample_subset = get_subset(18).iloc[:,:61]\n",
    "\n",
    "def get_shape_fluxes(shape, prefix=\"subplot_data_tic251630511/\", suffix=\"_depth_spike.csv\"):\n",
    "    fluxes = pd.read_csv(prefix+shape+suffix)\n",
    "    return fluxes\n",
    "\n",
    "def get_test_features(shape):\n",
    "    \"\"\"Dan Comment:\n",
    "    This function will import the injected light curves and get the features\n",
    "    for them.\n",
    "\n",
    "    These features won't change even if the scaling later does, this is a time\n",
    "    consuming function so you want to redo it as little as possible, only the\n",
    "    once if you can. I'd recommend just saving the features as variables for\n",
    "    the notebook.\n",
    "    \"\"\"\n",
    "    to_score_total = pd.DataFrame()\n",
    "\n",
    "    fluxes = get_shape_fluxes(shape)\n",
    "    test_time = fluxes[\"Time\"].values\n",
    "\n",
    "    for num in range(1,100):\n",
    "        # Dan: changed the range since there are different numbers of columns\n",
    "        try:\n",
    "            test_flux = fluxes[\"Flux%s\" %(num)].values\n",
    "            test_err = np.zeros_like(test_flux, dtype='uint8')\n",
    "        except:\n",
    "            # Dan: this will stop the loop once it hits an unrecognized column\n",
    "            break\n",
    "        test_features = features.feats(test_time, test_flux, test_err)\n",
    "\n",
    "        test_features = pd.DataFrame(columns=test_features.keys(), data=[test_features.values()])\n",
    "\n",
    "        mstat = features.calc_mstat(test_flux)\n",
    "\n",
    "        test_features['mstat'] = mstat\n",
    "        test_feats = test_features\n",
    "\n",
    "        to_score_total = to_score_total.append(test_feats)\n",
    "    \n",
    "    return to_score_total\n",
    "\n",
    "feats_dict = {\"Circle\":get_test_features('Circle'), \n",
    "              \"Square\":get_test_features('Square'), \n",
    "              \"Triangle\":get_test_features('Triangle')}"
   ]
  },
  {
   "cell_type": "code",
   "execution_count": 112,
   "id": "9fcbaa52-ae6d-45ad-a240-c1a3d4f8d54d",
   "metadata": {
    "tags": []
   },
   "outputs": [],
   "source": [
    "\"\"\"Dan Comment\n",
    "There's way too much output to do all three shapes at the same time.\n",
    "Split it up so it's legible.\n",
    "\n",
    "Since it was a loop, might as well make it a function\n",
    "\n",
    "and I prefer to separate functionality from plotting,\n",
    "plotting can be slow and functions can need to be changed often\n",
    "\"\"\"\n",
    "def function(shape):\n",
    "    \"\"\"Dan Comment\n",
    "    I removed the placeholder arrays, opting instead to define things more\n",
    "    directly in the lines they get calculated in\n",
    "    \"\"\"\n",
    "    to_score = feats_dict[shape]\n",
    "\n",
    "    # Do the scoring all at once\n",
    "    # Got rid of the plotting here, can plot later\n",
    "    scores = dist_scores(sample_subset, to_score, k=1, scaler=data_scaler)\n",
    "    scores_df = pd.DataFrame(data=scores.T, columns=[\"scores\"])\n",
    "    \n",
    "    # instead of a for loop around everything, I only implement a couple\n",
    "    # in making specific lists\n",
    "    shape_score = [sector_scores[sector_scores.scores>scores[i]]['rank'].max()+1\n",
    "                   for i in range(len(to_score))]\n",
    "    scores_df['ranks'] = shape_score \n",
    "    fluxes = get_shape_fluxes(shape)\n",
    "    scores_df['min_flux'] = [min(fluxes[\"Flux%s\" %(i+1)].values[:-200])\n",
    "                          for i in range(len(to_score))]\n",
    "    \n",
    "    # I opt to organize things in dataframes because it keeps related information\n",
    "    # tied together\n",
    "    return scores_df"
   ]
  },
  {
   "cell_type": "code",
   "execution_count": 113,
   "id": "919da13a-b115-41dc-92c3-744147e450f0",
   "metadata": {},
   "outputs": [
    {
     "data": {
      "text/html": [
       "<div>\n",
       "<style scoped>\n",
       "    .dataframe tbody tr th:only-of-type {\n",
       "        vertical-align: middle;\n",
       "    }\n",
       "\n",
       "    .dataframe tbody tr th {\n",
       "        vertical-align: top;\n",
       "    }\n",
       "\n",
       "    .dataframe thead th {\n",
       "        text-align: right;\n",
       "    }\n",
       "</style>\n",
       "<table border=\"1\" class=\"dataframe\">\n",
       "  <thead>\n",
       "    <tr style=\"text-align: right;\">\n",
       "      <th></th>\n",
       "      <th>scores</th>\n",
       "      <th>ranks</th>\n",
       "      <th>min_flux</th>\n",
       "    </tr>\n",
       "  </thead>\n",
       "  <tbody>\n",
       "    <tr>\n",
       "      <th>0</th>\n",
       "      <td>0.002589</td>\n",
       "      <td>3734.0</td>\n",
       "      <td>0.049074</td>\n",
       "    </tr>\n",
       "    <tr>\n",
       "      <th>1</th>\n",
       "      <td>0.002513</td>\n",
       "      <td>4034.0</td>\n",
       "      <td>0.136413</td>\n",
       "    </tr>\n",
       "    <tr>\n",
       "      <th>2</th>\n",
       "      <td>0.002195</td>\n",
       "      <td>5985.0</td>\n",
       "      <td>0.229986</td>\n",
       "    </tr>\n",
       "    <tr>\n",
       "      <th>3</th>\n",
       "      <td>0.002071</td>\n",
       "      <td>7153.0</td>\n",
       "      <td>0.319902</td>\n",
       "    </tr>\n",
       "    <tr>\n",
       "      <th>4</th>\n",
       "      <td>0.001975</td>\n",
       "      <td>8267.0</td>\n",
       "      <td>0.412433</td>\n",
       "    </tr>\n",
       "    <tr>\n",
       "      <th>5</th>\n",
       "      <td>0.001916</td>\n",
       "      <td>9047.0</td>\n",
       "      <td>0.503116</td>\n",
       "    </tr>\n",
       "    <tr>\n",
       "      <th>6</th>\n",
       "      <td>0.001835</td>\n",
       "      <td>10225.0</td>\n",
       "      <td>0.596440</td>\n",
       "    </tr>\n",
       "    <tr>\n",
       "      <th>7</th>\n",
       "      <td>0.001813</td>\n",
       "      <td>10546.0</td>\n",
       "      <td>0.686272</td>\n",
       "    </tr>\n",
       "    <tr>\n",
       "      <th>8</th>\n",
       "      <td>0.001727</td>\n",
       "      <td>11995.0</td>\n",
       "      <td>0.778925</td>\n",
       "    </tr>\n",
       "    <tr>\n",
       "      <th>9</th>\n",
       "      <td>0.001691</td>\n",
       "      <td>12687.0</td>\n",
       "      <td>0.871119</td>\n",
       "    </tr>\n",
       "    <tr>\n",
       "      <th>10</th>\n",
       "      <td>0.001246</td>\n",
       "      <td>29742.0</td>\n",
       "      <td>0.964349</td>\n",
       "    </tr>\n",
       "    <tr>\n",
       "      <th>11</th>\n",
       "      <td>0.000898</td>\n",
       "      <td>89404.0</td>\n",
       "      <td>0.974750</td>\n",
       "    </tr>\n",
       "  </tbody>\n",
       "</table>\n",
       "</div>"
      ],
      "text/plain": [
       "      scores    ranks  min_flux\n",
       "0   0.002589   3734.0  0.049074\n",
       "1   0.002513   4034.0  0.136413\n",
       "2   0.002195   5985.0  0.229986\n",
       "3   0.002071   7153.0  0.319902\n",
       "4   0.001975   8267.0  0.412433\n",
       "5   0.001916   9047.0  0.503116\n",
       "6   0.001835  10225.0  0.596440\n",
       "7   0.001813  10546.0  0.686272\n",
       "8   0.001727  11995.0  0.778925\n",
       "9   0.001691  12687.0  0.871119\n",
       "10  0.001246  29742.0  0.964349\n",
       "11  0.000898  89404.0  0.974750"
      ]
     },
     "execution_count": 113,
     "metadata": {},
     "output_type": "execute_result"
    }
   ],
   "source": [
    "function(\"Circle\")"
   ]
  },
  {
   "cell_type": "code",
   "execution_count": 114,
   "id": "77d42848-1661-4fd1-a2e3-c0bf3ba87478",
   "metadata": {},
   "outputs": [
    {
     "name": "stdout",
     "output_type": "stream",
     "text": [
      "      scores    ranks  min_flux\n",
      "0   0.002589   3734.0  0.049074\n",
      "1   0.002513   4034.0  0.136413\n",
      "2   0.002195   5985.0  0.229986\n",
      "3   0.002071   7153.0  0.319902\n",
      "4   0.001975   8267.0  0.412433\n",
      "5   0.001916   9047.0  0.503116\n",
      "6   0.001835  10225.0  0.596440\n",
      "7   0.001813  10546.0  0.686272\n",
      "8   0.001727  11995.0  0.778925\n",
      "9   0.001691  12687.0  0.871119\n",
      "10  0.001246  29742.0  0.964349\n",
      "11  0.000898  89404.0  0.974750      scores    ranks  min_flux\n",
      "0  0.001918   9031.0  0.559132\n",
      "1  0.001946   8618.0  0.628771\n",
      "2  0.001807  10657.0  0.714090\n",
      "3  0.001690  12710.0  0.815738\n",
      "4  0.001578  15185.0  0.918253\n",
      "5  0.000899  88889.0  0.974750       scores    ranks  min_flux\n",
      "0   0.002714   3342.0  0.014785\n",
      "1   0.002657   3521.0  0.049887\n",
      "2   0.002479   4197.0  0.112183\n",
      "3   0.002253   5518.0  0.182685\n",
      "4   0.002130   6546.0  0.274071\n",
      "5   0.002067   7198.0  0.380873\n",
      "6   0.001961   8439.0  0.500272\n",
      "7   0.001862   9796.0  0.608996\n",
      "8   0.001733  11897.0  0.728203\n",
      "9   0.001760  11399.0  0.844745\n",
      "10  0.001320  25037.0  0.957883\n",
      "11  0.000903  87401.0  0.974750\n"
     ]
    }
   ],
   "source": [
    "circle_scores = function(\"Circle\")\n",
    "triangle_scores = function(\"Triangle\")\n",
    "square_scores = function(\"Square\")\n",
    "print(circle_scores, triangle_scores, square_scores)"
   ]
  },
  {
   "cell_type": "code",
   "execution_count": 107,
   "id": "790027bb-0eba-4c24-9dfc-d306831c2a6b",
   "metadata": {},
   "outputs": [
    {
     "name": "stdout",
     "output_type": "stream",
     "text": [
      "     scores    ranks  min_flux\n",
      "0  0.002460   4287.0  0.737413\n",
      "1  0.002076   7099.0  0.738457\n",
      "2  0.001891   9389.0  0.739260\n",
      "3  0.001741  11731.0  0.739260\n",
      "4  0.001695  12628.0  0.739260\n",
      "5  0.001823  10395.0  0.739260      scores    ranks  min_flux\n",
      "0  0.002465   4262.0  0.711619\n",
      "1  0.002145   6413.0  0.711626\n",
      "2  0.001876   9609.0  0.711634\n",
      "3  0.001816  10509.0  0.711656\n",
      "4  0.001717  12174.0  0.711703\n",
      "5  0.001814  10544.0  0.711874      scores    ranks  min_flux\n",
      "0  0.002509   4056.0  0.678511\n",
      "1  0.002095   6909.0  0.679314\n",
      "2  0.001887   9475.0  0.679314\n",
      "3  0.001746  11649.0  0.679314\n",
      "4  0.001709  12317.0  0.679314\n",
      "5  0.001835  10225.0  0.679314\n"
     ]
    }
   ],
   "source": [
    "circle_scores = function(\"Circle\")\n",
    "triangle_scores = function(\"Triangle\")\n",
    "square_scores = function(\"Square\")\n",
    "print(circle_scores, triangle_scores, square_scores)"
   ]
  },
  {
   "cell_type": "code",
   "execution_count": 108,
   "id": "19c401b3-8238-47f5-aed2-d3287c6821c1",
   "metadata": {},
   "outputs": [
    {
     "name": "stdout",
     "output_type": "stream",
     "text": [
      "     scores    ranks  min_flux\n",
      "0  0.002460   4287.0  0.737413\n",
      "1  0.002076   7099.0  0.738457\n",
      "2  0.001891   9389.0  0.739260\n",
      "3  0.001741  11731.0  0.739260\n",
      "4  0.001695  12628.0  0.739260\n",
      "5  0.001823  10395.0  0.739260      scores    ranks  min_flux\n",
      "0  0.002465   4262.0  0.711619\n",
      "1  0.002145   6413.0  0.711626\n",
      "2  0.001876   9609.0  0.711634\n",
      "3  0.001816  10509.0  0.711656\n",
      "4  0.001717  12174.0  0.711703\n",
      "5  0.001814  10544.0  0.711874      scores    ranks  min_flux\n",
      "0  0.002509   4056.0  0.678511\n",
      "1  0.002095   6909.0  0.679314\n",
      "2  0.001887   9475.0  0.679314\n",
      "3  0.001746  11649.0  0.679314\n",
      "4  0.001709  12317.0  0.679314\n",
      "5  0.001835  10225.0  0.679314\n"
     ]
    }
   ],
   "source": [
    "circle_scores = function(\"Circle\")\n",
    "triangle_scores = function(\"Triangle\")\n",
    "square_scores = function(\"Square\")\n",
    "print(circle_scores, triangle_scores, square_scores)"
   ]
  },
  {
   "cell_type": "code",
   "execution_count": 65,
   "id": "adbb4deb-a1b0-4592-8ac8-1d56e8c76ce5",
   "metadata": {
    "collapsed": true,
    "jupyter": {
     "outputs_hidden": true
    },
    "tags": []
   },
   "outputs": [
    {
     "data": {
      "image/png": "[encoded data removed]",
      "text/plain": [
       "<Figure size 432x288 with 1 Axes>"
      ]
     },
     "metadata": {
      "needs_background": "light"
     },
     "output_type": "display_data"
    },
    {
     "data": {
      "image/png": "[encoded data removed]",
      "text/plain": [
       "<Figure size 432x288 with 1 Axes>"
      ]
     },
     "metadata": {
      "needs_background": "light"
     },
     "output_type": "display_data"
    },
    {
     "data": {
      "image/png": "[encoded data removed]",
      "text/plain": [
       "<Figure size 432x288 with 1 Axes>"
      ]
     },
     "metadata": {
      "needs_background": "light"
     },
     "output_type": "display_data"
    },
    {
     "data": {
      "image/png": "[encoded data removed]",
      "text/plain": [
       "<Figure size 432x288 with 1 Axes>"
      ]
     },
     "metadata": {
      "needs_background": "light"
     },
     "output_type": "display_data"
    },
    {
     "data": {
      "image/png": "[encoded data removed]",
      "text/plain": [
       "<Figure size 432x288 with 1 Axes>"
      ]
     },
     "metadata": {
      "needs_background": "light"
     },
     "output_type": "display_data"
    },
    {
     "data": {
      "image/png": "[encoded data removed]",
      "text/plain": [
       "<Figure size 432x288 with 1 Axes>"
      ]
     },
     "metadata": {
      "needs_background": "light"
     },
     "output_type": "display_data"
    },
    {
     "data": {
      "image/png": "[encoded data removed]",
      "text/plain": [
       "<Figure size 432x288 with 1 Axes>"
      ]
     },
     "metadata": {
      "needs_background": "light"
     },
     "output_type": "display_data"
    },
    {
     "data": {
      "image/png": "[encoded data removed]",
      "text/plain": [
       "<Figure size 432x288 with 1 Axes>"
      ]
     },
     "metadata": {
      "needs_background": "light"
     },
     "output_type": "display_data"
    },
    {
     "data": {
      "image/png": "[encoded data removed]",
      "text/plain": [
       "<Figure size 432x288 with 1 Axes>"
      ]
     },
     "metadata": {
      "needs_background": "light"
     },
     "output_type": "display_data"
    },
    {
     "data": {
      "image/png": "[encoded data removed]",
      "text/plain": [
       "<Figure size 432x288 with 1 Axes>"
      ]
     },
     "metadata": {
      "needs_background": "light"
     },
     "output_type": "display_data"
    },
    {
     "data": {
      "image/png": "[encoded data removed]",
      "text/plain": [
       "<Figure size 432x288 with 1 Axes>"
      ]
     },
     "metadata": {
      "needs_background": "light"
     },
     "output_type": "display_data"
    },
    {
     "data": {
      "image/png": "[encoded data removed]",
      "text/plain": [
       "<Figure size 432x288 with 1 Axes>"
      ]
     },
     "metadata": {
      "needs_background": "light"
     },
     "output_type": "display_data"
    }
   ],
   "source": [
    "#plotting\n",
    "fluxes = get_shape_fluxes(\"Circle\")\n",
    "for num in range(1, 13):\n",
    "    plt.scatter(fluxes[\"Time\"], fluxes[f\"Flux{num}\"])\n",
    "    plt.title(f\"Flux {num}\")\n",
    "    plt.show()\n",
    "    plt.close()"
   ]
  },
  {
   "cell_type": "code",
   "execution_count": 38,
   "id": "c1218729-29be-470f-b872-7df8ad901d03",
   "metadata": {},
   "outputs": [
    {
     "data": {
      "text/plain": [
       "<matplotlib.collections.PathCollection at 0x7f6fc0880668>"
      ]
     },
     "execution_count": 38,
     "metadata": {},
     "output_type": "execute_result"
    },
    {
     "data": {
      "image/png": "[encoded data removed]",
      "text/plain": [
       "<Figure size 432x288 with 1 Axes>"
      ]
     },
     "metadata": {
      "needs_background": "light"
     },
     "output_type": "display_data"
    }
   ],
   "source": [
    "#plot rankings\n",
    "plt.scatter(triangle_scores['min_flux'], triangle_scores['ranks'])"
   ]
  },
  {
   "cell_type": "markdown",
   "id": "46293248-63ef-483d-a51a-715da9895b91",
   "metadata": {},
   "source": [
    "# End Dan Edits (for now)"
   ]
  },
  {
   "cell_type": "code",
   "execution_count": 106,
   "id": "c5332052-fa1f-4bf3-8ada-7d5319e3259b",
   "metadata": {},
   "outputs": [],
   "source": [
    "#width csvs\n",
    "shape = 'Circle'\n",
    "circle_scores.to_csv('./subplot_data_tic251630511/rankings_width_' + shape +'.csv', index=True)"
   ]
  },
  {
   "cell_type": "code",
   "execution_count": 117,
   "id": "d9d20b3a-9fce-4db7-98f6-a2383c9766b6",
   "metadata": {},
   "outputs": [],
   "source": [
    "#depth csvs\n",
    "shape = 'Square'\n",
    "square_scores.to_csv('./subplot_data_tic251630511/rankings_depth_' + shape +'.csv', index=True)"
   ]
  },
  {
   "cell_type": "code",
   "execution_count": null,
   "id": "b515243e-fb53-4a77-a27b-6c909632a562",
   "metadata": {},
   "outputs": [],
   "source": [
    "shape_depths = 1-shape_depths\n",
    "plt.title(shape)\n",
    "plt.xlabel(\"Transit Depth\")\n",
    "plt.ylabel(\"Ranking\")\n",
    "plt.scatter(shape_depths, shape_scores)\n",
    "plt.show()\n",
    "\n",
    "print(to_score_total)\n",
    "\n",
    "to_score_total.to_csv('features.csv', index=True)\n",
    "\n",
    "print(rank_scores)\n",
    "#tri_scores=rank_scores\n",
    "\n",
    "shape_scores = rank_scores#np.array([9., 9., 9., 9. 9. 6.])\n",
    "shape_depths = np.array([])\n",
    "\n",
    "for num in range(1,13):\n",
    "    depth = min(fluxes[\"Flux%s\" %(num)].values)\n",
    "    shape_depths = np.append(shape_depths, depth)\n",
    "    \n",
    "shape_depths = 1-shape_depths\n",
    "print(shape_depths)\n",
    "\n",
    "plt.title(shape)\n",
    "plt.xlabel(\"Transit Depth\")\n",
    "plt.ylabel(\"Ranking\")\n",
    "plt.scatter(shape_depths, shape_scores)\n",
    "print(len(shape_depths), len(shape_scores))\n"
   ]
  },
  {
   "cell_type": "code",
   "execution_count": null,
   "id": "235cf3f3-5ea7-441d-b077-9ef7f4653ff0",
   "metadata": {
    "tags": []
   },
   "outputs": [],
   "source": [
    "plt.scatter(sector_scores['rank'], sector_scores.scores)\n",
    "plt.yscale('log')\n",
    "plt.ylim(1E-4, 1E0)"
   ]
  },
  {
   "cell_type": "markdown",
   "id": "63b53a53-4c7e-46ae-ad4b-d73107f2eb11",
   "metadata": {},
   "source": [
    "# Appendix: Scaling distances -> scores"
   ]
  },
  {
   "cell_type": "code",
   "execution_count": null,
   "id": "70ab08e1-70b7-4232-b18c-0d3f505b2585",
   "metadata": {
    "tags": []
   },
   "outputs": [],
   "source": [
    "scores_df[\"TIC_ID\"] = sample_subset.index.astype(int)"
   ]
  },
  {
   "cell_type": "code",
   "execution_count": null,
   "id": "175b8e84-0b01-407d-bb3c-c5682603322f",
   "metadata": {
    "tags": []
   },
   "outputs": [],
   "source": [
    "refpoints = sector_scores[sector_scores.TIC_ID.isin(scores_df.head(2).TIC_ID)].reset_index()"
   ]
  },
  {
   "cell_type": "code",
   "execution_count": null,
   "id": "737b50ef-5387-4f69-9583-b9f50bb65e4d",
   "metadata": {
    "tags": []
   },
   "outputs": [],
   "source": [
    "scores_df.head(2)"
   ]
  },
  {
   "cell_type": "code",
   "execution_count": null,
   "id": "8f388e14-35ba-4a27-9680-dadd9bb0328b",
   "metadata": {
    "tags": []
   },
   "outputs": [],
   "source": [
    "refpoints"
   ]
  },
  {
   "cell_type": "code",
   "execution_count": null,
   "id": "469d3b99-03c3-4473-8f83-842e63edd926",
   "metadata": {
    "tags": []
   },
   "outputs": [],
   "source": [
    "diff_abs = scores_df.head(2).loc[1, 'scores']-scores_df.head(2).loc[0, 'scores']\n",
    "\n",
    "dif_scaled = refpoints.loc[1,'scores']-refpoints.loc[0,'scores']\n",
    "\n",
    "factor = dif_scaled/diff_abs\n",
    "\n",
    "offset = refpoints.loc[1,'scores']-factor*scores_df.head(2).loc[1, 'scores']"
   ]
  },
  {
   "cell_type": "code",
   "execution_count": null,
   "id": "525053fb-14db-43db-b0de-bf70a1d03dbe",
   "metadata": {
    "tags": []
   },
   "outputs": [],
   "source": [
    "print(f\"score = {factor:.3E} * distance + {offset:.3E}\")"
   ]
  },
  {
   "cell_type": "code",
   "execution_count": null,
   "id": "5059064a-a49f-4841-bcf8-36001d30bc1e",
   "metadata": {
    "tags": []
   },
   "outputs": [],
   "source": [
    "features = pd.read_csv(\"features.csv\")\n",
    "print(features[features.columns[1]])\n",
    "outliers = (features.tail(2))\n",
    "\n",
    "\n",
    "#fig = plt.figure(figsize=(25,30))\n",
    "#ax = fig.gca()\n",
    "features.hist()#(ax = ax)\n",
    "outliers.hist()#(ax = ax)\n",
    "plt.show()"
   ]
  },
  {
   "cell_type": "code",
   "execution_count": null,
   "id": "02816126-6ac0-4ce6-a871-ed1affbc4b95",
   "metadata": {},
   "outputs": [],
   "source": [
    "import pandas as pd\n",
    "import matplotlib.pyplot as plt\n",
    "sample_subset=pd.read_csv(\"sample_subset.csv\")\n",
    "features = pd.read_csv(\"features.csv\")\n",
    "features=features.head(10)\n",
    "outliers = features.tail(2)\n",
    "\n",
    "#num_columns = features.shape[1]\n",
    "\n",
    "num_rows = 6\n",
    "num_cols = 11\n",
    "\n",
    "fig, axs = plt.subplots(31, 2, figsize=(30,120))\n",
    "\n",
    "axs = axs.flatten()\n",
    "\n",
    "for i, column in enumerate(features.columns):\n",
    "    axs[i].hist(sample_subset[column], bins=100, label = 'sector 18 sample')\n",
    "    axs[i].hist(features[column], label = 'injected sample w/o outliers', bins=10, color = 'black')\n",
    "    axs[i].hist(outliers[column], label='Outliers', color ='red', bins=3)\n",
    "    axs[i].set_title(f\"{column} Histogram\")\n",
    "    \n",
    "        \n",
    "    for injected_value in features[column]:\n",
    "        axs[i].axvline(injected_value, color='black', linestyle='dashed')\n",
    "    for outlier_value in outliers[column]:\n",
    "        axs[i].axvline(outlier_value, color='red', linestyle='dashed')\n",
    "\n",
    "\n",
    "plt.tight_layout()\n",
    "plt.legend()\n",
    "plt.show()\n"
   ]
  },
  {
   "cell_type": "code",
   "execution_count": null,
   "id": "be5897f2-2976-4cd4-9748-fbe6f60fce43",
   "metadata": {},
   "outputs": [],
   "source": [
    "mstat_gt_1 = sample_subset[sample_subset['mstat'] > 1]\n",
    "print(len(mstat_gt_1))\n"
   ]
  },
  {
   "cell_type": "code",
   "execution_count": null,
   "id": "d79bba45-504e-4d18-897f-f028d6bec1ee",
   "metadata": {},
   "outputs": [],
   "source": []
  }
 ],
 "metadata": {
  "environment": {
   "kernel": "spocc",
   "name": "common-cpu.m108",
   "type": "gcloud",
   "uri": "gcr.io/deeplearning-platform-release/base-cpu:m108"
  },
  "kernelspec": {
   "display_name": "spocc",
   "language": "python",
   "name": "spocc"
  },
  "language_info": {
   "codemirror_mode": {
    "name": "ipython",
    "version": 3
   },
   "file_extension": ".py",
   "mimetype": "text/x-python",
   "name": "python",
   "nbconvert_exporter": "python",
   "pygments_lexer": "ipython3",
   "version": "3.6.15"
  }
 },
 "nbformat": 4,
 "nbformat_minor": 5
}
