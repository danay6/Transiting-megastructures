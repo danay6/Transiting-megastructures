{
 "cells": [
  {
   "cell_type": "markdown",
   "id": "450125bc-9f0b-4965-8645-05db48534050",
   "metadata": {},
   "source": [
    "### Use this notebook as a scratchpad, ***transfer anything really important to another notebook***"
   ]
  },
  {
   "cell_type": "code",
   "execution_count": null,
   "id": "ba8666ea-4e74-46c3-8a49-6244a1e695f0",
   "metadata": {
    "tags": [
     "imports"
    ]
   },
   "outputs": [],
   "source": [
    "# generally useful imports\n",
    "import pandas as pd\n",
    "import numpy as np\n",
    "\n",
    "\n",
    "# Mount data either from disk or bucket\n",
    "# If you need more than the skyportal data, you need to use the bucket\n",
    "try:\n",
    "    # First try to load data from the disk, it's faster than bucket access\n",
    "    data_dir = \"/mnt/disks/lcs/tess-goddard-lcs/\"  # path for disk\n",
    "    ref = pd.read_csv(data_dir+\"sector1lookup.csv\") # test if ref file can be loaded\n",
    "except:\n",
    "    try: \n",
    "        # first trying to mount the disk\n",
    "        data.mount_drive(\"/mnt/disks/lcs\")\n",
    "        ref = pd.read_csv(data_dir+\"sector1lookup.csv\") # test if ref file can be loaded\n",
    "    except:\n",
    "        # if the ref file can't be loaded from disk, try using the bucket\n",
    "        from pathlib import Path\n",
    "        home = str(Path.home()) # getting the path to the home directory\n",
    "        data_dir = home + \"/mountpoint/\"  # path for bucket\n",
    "        try:\n",
    "            # check if the lookup file for sector one exists\n",
    "            ref = pd.read_csv(data_dir+\"sector1lookup.csv\")\n",
    "        except FileNotFoundError:\n",
    "            # If the ref file can't be found, the bucket might not be mounted\n",
    "            # this attempts to mount it.\n",
    "            os.system(\n",
    "                f\"gcsfuse --implicit-dirs tess-goddard-lcs {data_dir}\"\n",
    "            )\n",
    "            ref = pd.read_csv(data_dir+\"sector1lookup.csv\")\n",
    "\n",
    "# Add spocc directory to the path to import spocc modules\n",
    "import os\n",
    "import sys\n",
    "module_path = os.path.abspath(os.path.join('..'))\n",
    "if module_path not in sys.path:\n",
    "    sys.path.append(module_path)\n",
    "\n",
    "import data\n",
    "import loaders\n",
    "\n",
    "%load_ext autoreload\n",
    "%autoreload 2"
   ]
  },
  {
   "cell_type": "markdown",
   "id": "b6cd1cd1-0fac-48a3-86bd-0e3c524061e0",
   "metadata": {},
   "source": [
    "# Load lookup table"
   ]
  },
  {
   "cell_type": "code",
   "execution_count": null,
   "id": "1b3c4258-ca3d-4e8d-8871-ac931e183274",
   "metadata": {},
   "outputs": [],
   "source": [
    "## Loading in the skyportal lookup table, constrained to the most anomalous from each sector\n",
    "ref = pd.read_csv(\"/home/jupyter/skyportal_lookup.csv\", index_col=0)\n",
    "## Loading in a lookup table for a specific sector\n",
    "# s = 1\n",
    "# ref = pd.read_csv(data_dir+f\"sector{s}lookup.csv\")"
   ]
  },
  {
   "cell_type": "markdown",
   "id": "2b1e81d2-e7c6-4cdc-a706-43516b1c1412",
   "metadata": {},
   "source": [
    "## Create reference table of interest"
   ]
  },
  {
   "cell_type": "code",
   "execution_count": null,
   "id": "5b44181e-e3ac-45e8-90ce-500cc1e8e58d",
   "metadata": {},
   "outputs": [],
   "source": [
    "# Change this cell to create a reference dataframe with targets of interest\n",
    "## Example for a given sector/camera\n",
    "i = j = 1\n",
    "subref = ref[(ref.Sector==i)&(ref.Camera==j)] \n",
    "\n",
    "## Example for specific TICs in a particular sector\n",
    "# tics = [124106762, 52640302, 147314529, 287326187, 370101492, 93420238, 35718753, 34442932]\n",
    "# subref = ref[(ref.Sector==i)&(ref.TIC_ID.isin(tics)]"
   ]
  },
  {
   "cell_type": "markdown",
   "id": "dddc8ebb-ba4e-4165-9a9f-38bd80a40626",
   "metadata": {},
   "source": [
    "# Load light curves"
   ]
  },
  {
   "cell_type": "markdown",
   "id": "f4bd6d3b-783c-4729-bb67-2d9ea8db6a28",
   "metadata": {},
   "source": [
    "## Individual light curve"
   ]
  },
  {
   "cell_type": "code",
   "execution_count": null,
   "id": "a17caea3-9f40-46fc-8758-c59ad9756d27",
   "metadata": {},
   "outputs": [],
   "source": [
    "# this loads lightcurves directly from disk,\n",
    "# without MAD cuts or quality filters\n",
    "\n",
    "f0 = data_dir+subref.Filename.values[0]\n",
    "lc = loaders.load_lc(f0)"
   ]
  },
  {
   "cell_type": "markdown",
   "id": "e2b6bf90-5a68-4dec-843e-e17730def48b",
   "metadata": {},
   "source": [
    "## Set of light curves"
   ]
  },
  {
   "cell_type": "code",
   "execution_count": null,
   "id": "5b557f9b-e24e-40e1-ac60-972578d9b62c",
   "metadata": {},
   "outputs": [],
   "source": [
    "def load_subref_lcs(subref):\n",
    "    if subref.shape[0]>500:\n",
    "        subref = subref.iloc[:500]\n",
    "\n",
    "    files = data_dir+subref.Filename.values\n",
    "\n",
    "    sec = subref.Sector.values\n",
    "    cam = subref.Camera.values\n",
    "    # this will load light curves with MAD cuts and quality filters by default\n",
    "    lcc = loaders.LightCurveCollection(sec, cam, files)\n",
    "\n",
    "    lcc.load_all_lcs()\n",
    "\n",
    "    return lcs"
   ]
  },
  {
   "cell_type": "markdown",
   "id": "ce2a4186-f6c9-46e0-bd4a-19a6677beb6f",
   "metadata": {},
   "source": [
    "# Data analysis goes here"
   ]
  },
  {
   "cell_type": "code",
   "execution_count": null,
   "id": "d3c08788-d2b8-4345-854a-d1090d6082db",
   "metadata": {},
   "outputs": [],
   "source": []
  }
 ],
 "metadata": {
  "environment": {
   "kernel": "spocc",
   "name": "common-cpu.m108",
   "type": "gcloud",
   "uri": "gcr.io/deeplearning-platform-release/base-cpu:m108"
  },
  "kernelspec": {
   "display_name": "spocc",
   "language": "python",
   "name": "spocc"
  },
  "language_info": {
   "codemirror_mode": {
    "name": "ipython",
    "version": 3
   },
   "file_extension": ".py",
   "mimetype": "text/x-python",
   "name": "python",
   "nbconvert_exporter": "python",
   "pygments_lexer": "ipython3",
   "version": "3.6.15"
  }
 },
 "nbformat": 4,
 "nbformat_minor": 5
}
