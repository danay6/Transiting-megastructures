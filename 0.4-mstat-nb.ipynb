{
 "cells": [
  {
   "cell_type": "code",
   "execution_count": 4,
   "id": "cd0692a1-5c7a-4792-bf72-09ce6c34692b",
   "metadata": {
    "tags": [
     "imports"
    ]
   },
   "outputs": [
    {
     "name": "stdout",
     "output_type": "stream",
     "text": [
      "The autoreload extension is already loaded. To reload it, use:\n",
      "  %reload_ext autoreload\n"
     ]
    }
   ],
   "source": [
    "import matplotlib.pyplot as plt\n",
    "import numpy as np\n",
    "import pandas as pd\n",
    "import sys\n",
    "sys.path.append('..')\n",
    "import loaders\n",
    "import warnings\n",
    "from lightkurve import LightkurveWarning\n",
    "warnings.filterwarnings(\"ignore\", category=LightkurveWarning)\n",
    "import math\n",
    "%load_ext autoreload\n",
    "%autoreload 2\n",
    "import os"
   ]
  },
  {
   "cell_type": "code",
   "execution_count": 40,
   "id": "3ca78ced-e8f0-40fa-9724-5e8e8c4f3791",
   "metadata": {
    "tags": []
   },
   "outputs": [],
   "source": [
    "def calc_mstat(flux):\n",
    "    avg = np.nanmedian(flux)\n",
    "    # print('avg ' + str(avg))\n",
    "    stdev = np.nanstd(flux)\n",
    "    # print('stdev ' + str(stdev))\n",
    "\n",
    "    orderflux = np.sort(flux)\n",
    "    num = len(orderflux)\n",
    "    # Get top and bottom deciles of the lightcurve data:\n",
    "    extremeup = orderflux[0:int(np.round(0.1*num))]\n",
    "    #print(len(extremeup), extremeup)\n",
    "    extremedown = orderflux[int(np.round(0.9*num)):num-1]\n",
    "    #print(len(extremedown), extremedown)    \n",
    "    extreme = np.append(extremeup,extremedown)\n",
    "    #print(len(extreme), extreme)\n",
    "    \n",
    "    #print(avg, np.mean(extreme), stdev)\n",
    "    diff = (avg-np.mean(extreme))/stdev\n",
    "    return diff\n",
    "\n",
    "def plot_mstat_depth(shape):\n",
    "    mstats = np.array([])\n",
    "    depths = np.array([])\n",
    "    df_save2 = pd.DataFrame()\n",
    "    df_save = pd.DataFrame()   \n",
    "\n",
    "    if shape == 'Triangle':\n",
    "        image_ratios = np.array([0.07, 0.16, 0.25, 0.34, 0.43, .49]) # triangles\n",
    "    else:\n",
    "        image_ratios = np.array([0.07, 0.16, 0.25, 0.34, 0.43, 0.52, 0.61, 0.70, 0.79, 0.88, 0.97, .99])\n",
    "\n",
    "\n",
    "    #image_ratios = image_ratios + .02\n",
    "    iteration = 0\n",
    "\n",
    "    df_save = pd.DataFrame()\n",
    "\n",
    "    #for vertices in range(3,4):\n",
    "    #for ratio in range(1,11):\n",
    "    for image_ratio in image_ratios:\n",
    "    #for ratio in (1,1.2,1.4,1.6,1.8,2): #>=1\n",
    "        if shape == 'Triangle':\n",
    "            ratio = 1/ np.sqrt(1- 2*image_ratio) #triangle\n",
    "        else:\n",
    "            ratio = 1/ np.sqrt(1- image_ratio) #circ/square\n",
    "        iteration +=1\n",
    "\n",
    "\n",
    "        print(\"ratio \" + str(image_ratio))\n",
    "        df = pd.read_csv(#'/home/jupyter/SPOcc/examples/EightBitTransit/examples/Random_LCs/Class_' + str(shape) + '/' +str(shape) + '_ratio_'+ str(ratio)+'_velocity_0.6.csv'\n",
    "                         '/home/jupyter/SPOcc/spocc/notebooks/Injected_LCs_tic272759551/' +str(shape) + '_ratio_'+ str(ratio)+'_velocity_0.6.csv'\n",
    "                         #'/home/jupyter/SPOcc/examples/EightBitTransit/examples/Random_LCs/Class_' + str(vertices) + '/ratio_'+ str(ratio)+ '.csv'\n",
    "                        )\n",
    "        flux = df['Flux'].values\n",
    "        time = df['Time'].values\n",
    "\n",
    "        df_save['Flux' + str(iteration)] = flux\n",
    "\n",
    "\n",
    "        #plt.ylim(0,1.1)\n",
    "\n",
    "        #plt.plot(time, flux, label='ratio' + str(ratio), color='grey')\n",
    "\n",
    "        #plt.legend(loc='upper left')\n",
    "\n",
    "        mstat = calc_mstat(flux)\n",
    "        mstats = np.append(mstats, mstat)\n",
    "\n",
    "        depth = np.min(flux[:-200])\n",
    "        print('min ' +str(depth))\n",
    "        depths = np.append(depths, depth)\n",
    "        print(\"mstat: \" + str(mstat) +\"\\n\")\n",
    "        #plt.show()\n",
    "\n",
    "    #print(mstats)    \n",
    "\n",
    "    #print('flux = flux[800:930] time = time[800:930]')\n",
    "    #plt.plot(lc.time.value- lc.time.value[0], lc.flux.value, color = 'black')\n",
    "    #plt.title(str(shape) + 's', fontsize = 14)    \n",
    "    #plt.xlabel('Time [d]', fontsize = 14)\n",
    "    #plt.ylabel('Normalized Flux', fontsize = 14)\n",
    "    #plt.ylim(0,1.1)\n",
    "    #plt.show()\n",
    "    plt.xlabel('Minimum Normalized Flux Stat', fontsize = 14)\n",
    "    plt.ylabel('M', fontsize = 14)\n",
    "    #plt.title(shape, fontsize = 14)\n",
    "    plt.scatter(depths, mstats, label = str(shape))\n",
    "    plt.legend()\n",
    "    #plt.show()\n",
    "\n",
    "\n",
    "    #list_of_tuples = list(zip(time, flux, depths, mstats))\n",
    "    df_save['Time'] = time\n",
    "    #df_save2[['Depths', 'Mstats']] = depths, mstats\n",
    "    df_save2 = pd.DataFrame({'Depths':depths, 'Mstats':mstats})\n",
    "    df_save = pd.concat([df_save, df_save2], axis=1) \n",
    "\n",
    "    #print(df_save)\n",
    "    #mstat_s = mstats\n",
    "    #depths_s = depths\n",
    "\n",
    "    os.makedirs('subplot_data_tic251630511',exist_ok=True)\n",
    "    df_save.to_csv('./subplot_data_tic251630511/' + str(shape) + '_depth_spike.csv', index=False)\n",
    "\n",
    "def find_width(shape, ratio):\n",
    "    widths = np.array([])\n",
    "    velocities = np.array([])\n",
    "    #ratio = 1/ np.sqrt(1- ratio) #circle/square\n",
    "\n",
    "    #for vertices in range(3,4):\n",
    "    #for velocity in (.6, .8, 1.0, 1.2, 1.4, 1.6, 1.8, 2.0, 2.2, 2.4, 2.6): #\n",
    "    for velocity in (.3, .4 , .5, .7, 1.0, 1.8): #.9, 1.0, 1.2, 1.4, 1.6, 1.8): #\n",
    "\n",
    "        df = pd.read_csv('/home/jupyter/SPOcc/spocc/notebooks/Random_LCs/Class_' + str(shape) + '/' +str(shape) + '_ratio_'+str(ratio)+'_velocity_' + str(velocity)+ '.csv'\n",
    "                         #'/home/jupyter/SPOcc/examples/EightBitTransit/examples/Random_LCs/Class_' + str(vertices) + '/ratio_'+ str(ratio)+ '.csv'\n",
    "                        )\n",
    "        flux = df['Flux'].values\n",
    "        time = df['Time'].values\n",
    "\n",
    "\n",
    "        #plt.plot(time, flux,label='velocity' +str(velocity), color = 'grey')\n",
    "\n",
    "\n",
    "        nonzero_indices = df.index[flux != 1]\n",
    "        first_nonzero_index = nonzero_indices[0]\n",
    "        last_nonzero_index = nonzero_indices[-1]\n",
    "        width = df.loc[last_nonzero_index, 'Time'] - df.loc[first_nonzero_index, 'Time']\n",
    "\n",
    "        widths = np.append(widths, width)\n",
    "        velocities = np.append(velocities, velocity)\n",
    "\n",
    "\n",
    "\n",
    "    #plt.legend(loc='lower left')\n",
    "    # plt.title(str(shape) + 's')  \n",
    "    # plt.ylabel('Normalized Flux', fontsize = '14')\n",
    "    # plt.xlabel('Time [d]', fontsize = '14')\n",
    "    # plt.show()\n",
    "    # plt.xlabel('widths (days)', fontsize = '14')\n",
    "    # plt.ylabel('velocities', fontsize = '14')\n",
    "    # plt.scatter(widths, velocities)\n",
    "    ##plt.show()\n",
    "    widths = widths\n",
    "    print(widths)\n",
    "    print(velocities)\n",
    "    return widths\n",
    "\n",
    "def plot_mstat_width(shape, ratio, widths):\n",
    "    velocities = np.array([])\n",
    "    ratio = ratio\n",
    "    mstats = np.array([])\n",
    "    df_save2 = pd.DataFrame()\n",
    "    df_save = pd.DataFrame()    \n",
    "    iteration = 0\n",
    "\n",
    "\n",
    "    #for vertices in range(3,4):\n",
    "    #for velocity in (.6, .8, 1.0, 1.2, 1.4, 1.6, 1.8, 2.0, 2.2, 2.4, 2.6): #\n",
    "    #for velocity in (.6,  1.0,  1.4,  1.8,  2.2,  2.6): #\n",
    "    for velocity in (.3, .4 , .5, .7, 1.0, 1.8): #.9, 1.0, 1.2, 1.4, 1.6, 1.8): #\n",
    "\n",
    "\n",
    "        df = pd.read_csv('/home/jupyter/SPOcc/spocc/notebooks/Injected_LCs_tic272759551/' +str(shape) + '_ratio_'+ str(ratio)+'_velocity_' + str(velocity)+ '.csv'\n",
    "                         #'/home/jupyter/SPOcc/examples/EightBitTransit/examples/Random_LCs/Class_' + str(vertices) + '/ratio_'+ str(ratio)+ '.csv'\n",
    "                        )\n",
    "        flux = df['Flux'].values\n",
    "        time = df['Time'].values\n",
    "        iteration +=1\n",
    "\n",
    "\n",
    "        #plt.plot(time, flux,label='velocity' +str(velocity))#, color = 'grey')\n",
    "\n",
    "\n",
    "        mstat = calc_mstat(flux)\n",
    "        mstats = np.append(mstats, mstat)\n",
    "\n",
    "        df_save['Flux' + str(iteration)] = flux\n",
    "\n",
    "\n",
    "    df_save['Time'] = time\n",
    "    #df_save2[['Depths', 'Mstats']] = depths, mstats\n",
    "    df_save2 = pd.DataFrame({'Widths':widths, 'Mstats':mstats})\n",
    "    df_save = pd.concat([df_save, df_save2], axis=1)     \n",
    "\n",
    "\n",
    "\n",
    "    #plt.legend(loc='lower left')\n",
    "    #plt.title(str(shape) + 's')  \n",
    "    #plt.ylabel('Normalized Flux', fontsize = '14')\n",
    "    #plt.xlabel('Time [d]', fontsize = '14')\n",
    "    #plt.show()\n",
    "    plt.xlabel('Widths [days]', fontsize = '14')\n",
    "    plt.ylabel('M', fontsize = '14')\n",
    "    plt.scatter(widths, mstats, label = str(shape))\n",
    "    plt.legend()\n",
    "    #plt.show()\n",
    "\n",
    "\n",
    "    os.makedirs('subplot_data_tic251630511',exist_ok=True)\n",
    "    df_save.to_csv('./subplot_data_tic251630511/' + str(shape) + '_width_spike.csv', index=False)\n"
   ]
  },
  {
   "cell_type": "code",
   "execution_count": 13,
   "id": "3ffa6e92-a19c-45c6-8ded-dfb6a283a6d5",
   "metadata": {
    "tags": []
   },
   "outputs": [
    {
     "name": "stdout",
     "output_type": "stream",
     "text": [
      "ratio 0.07\n",
      "min 0.5158829184636797\n",
      "mstat: 1.3940987413650159\n",
      "\n",
      "ratio 0.16\n",
      "min 0.5819742694956342\n",
      "mstat: 1.3645931010650985\n",
      "\n",
      "ratio 0.25\n",
      "min 0.6594358324528893\n",
      "mstat: 1.3080895139671755\n",
      "\n",
      "ratio 0.34\n",
      "min 0.7538230254228679\n",
      "mstat: 1.2002289278423566\n",
      "\n",
      "ratio 0.43\n",
      "min 0.8632449169950139\n",
      "mstat: 0.8961110797789005\n",
      "\n",
      "ratio 0.49\n",
      "min 0.9381004839998046\n",
      "mstat: 0.30488776532273576\n",
      "\n"
     ]
    },
    {
     "data": {
      "image/png": "[encoded data removed]",
      "text/plain": [
       "<Figure size 432x288 with 1 Axes>"
      ]
     },
     "metadata": {
      "needs_background": "light"
     },
     "output_type": "display_data"
    },
    {
     "data": {
      "image/png": "[encoded data removed]",
      "text/plain": [
       "<Figure size 432x288 with 1 Axes>"
      ]
     },
     "metadata": {
      "needs_background": "light"
     },
     "output_type": "display_data"
    },
    {
     "name": "stdout",
     "output_type": "stream",
     "text": [
      "        Flux1     Flux2     Flux3     Flux4     Flux5     Flux6       Time  \\\n",
      "0    1.008330  1.008330  1.008330  1.008330  1.008330  1.008330   0.000000   \n",
      "1    1.003863  1.003863  1.003863  1.003863  1.003863  1.003863   0.020833   \n",
      "2    1.001899  1.001899  1.001899  1.001899  1.001899  1.001899   0.041666   \n",
      "3    1.014658  1.014658  1.014658  1.014658  1.014658  1.014658   0.062499   \n",
      "4    1.003636  1.003636  1.003636  1.003636  1.003636  1.003636   0.083333   \n",
      "..        ...       ...       ...       ...       ...       ...        ...   \n",
      "984  0.775829  0.775829  0.775829  0.775829  0.775829  0.775829  24.145586   \n",
      "985  0.751745  0.751745  0.751745  0.751745  0.751745  0.751745  24.166419   \n",
      "986  0.794775  0.794775  0.794775  0.794775  0.794775  0.794775  24.187252   \n",
      "987  0.748888  0.748888  0.748888  0.748888  0.748888  0.748888  24.208085   \n",
      "988  0.748802  0.748802  0.748802  0.748802  0.748802  0.748802  24.228918   \n",
      "\n",
      "       Depths    Mstats  \n",
      "0    0.515883  1.394099  \n",
      "1    0.581974  1.364593  \n",
      "2    0.659436  1.308090  \n",
      "3    0.753823  1.200229  \n",
      "4    0.863245  0.896111  \n",
      "..        ...       ...  \n",
      "984       NaN       NaN  \n",
      "985       NaN       NaN  \n",
      "986       NaN       NaN  \n",
      "987       NaN       NaN  \n",
      "988       NaN       NaN  \n",
      "\n",
      "[989 rows x 9 columns]\n"
     ]
    }
   ],
   "source": [
    "#Mstat for depths\n",
    "shape = 'Triangle'\n",
    "vertices = 11\n",
    "\n",
    "plot_mstat_depth(shape)"
   ]
  },
  {
   "cell_type": "code",
   "execution_count": 27,
   "id": "b539abdd-ccdf-462f-b275-d5bce6c4b23a",
   "metadata": {},
   "outputs": [
    {
     "data": {
      "image/png": "[encoded data removed]",
      "text/plain": [
       "<Figure size 432x288 with 1 Axes>"
      ]
     },
     "metadata": {
      "needs_background": "light"
     },
     "output_type": "display_data"
    },
    {
     "data": {
      "image/png": "[encoded data removed]",
      "text/plain": [
       "<Figure size 432x288 with 1 Axes>"
      ]
     },
     "metadata": {
      "needs_background": "light"
     },
     "output_type": "display_data"
    },
    {
     "name": "stdout",
     "output_type": "stream",
     "text": [
      "[10.11196911  7.56833977  6.06718147  4.31583012  3.02316602  1.66795367]\n",
      "[0.3 0.4 0.5 0.7 1.  1.8]\n"
     ]
    },
    {
     "ename": "FileNotFoundError",
     "evalue": "[Errno 2] No such file or directory: '/home/jupyter/SPOcc/spocc/notebooks/Injected_LCs/tic272759551/Square_ratio_2_velocity_2.2.csv'",
     "output_type": "error",
     "traceback": [
      "\u001b[0;31m---------------------------------------------------------------------------\u001b[0m",
      "\u001b[0;31mFileNotFoundError\u001b[0m                         Traceback (most recent call last)",
      "\u001b[0;32m<ipython-input-27-067ec61547a5>\u001b[0m in \u001b[0;36m<module>\u001b[0;34m\u001b[0m\n\u001b[1;32m      4\u001b[0m \u001b[0;34m\u001b[0m\u001b[0m\n\u001b[1;32m      5\u001b[0m \u001b[0mwidths\u001b[0m \u001b[0;34m=\u001b[0m \u001b[0mfind_width\u001b[0m\u001b[0;34m(\u001b[0m\u001b[0mshape\u001b[0m\u001b[0;34m,\u001b[0m \u001b[0mratio\u001b[0m\u001b[0;34m)\u001b[0m\u001b[0;34m\u001b[0m\u001b[0;34m\u001b[0m\u001b[0m\n\u001b[0;32m----> 6\u001b[0;31m \u001b[0mplot_mstat_width\u001b[0m\u001b[0;34m(\u001b[0m\u001b[0mshape\u001b[0m\u001b[0;34m,\u001b[0m \u001b[0mratio\u001b[0m\u001b[0;34m,\u001b[0m \u001b[0mwidths\u001b[0m\u001b[0;34m)\u001b[0m\u001b[0;34m\u001b[0m\u001b[0;34m\u001b[0m\u001b[0m\n\u001b[0m",
      "\u001b[0;32m<ipython-input-24-1a1cc3d831e3>\u001b[0m in \u001b[0;36mplot_mstat_width\u001b[0;34m(shape, ratio, widths)\u001b[0m\n\u001b[1;32m    161\u001b[0m \u001b[0;34m\u001b[0m\u001b[0m\n\u001b[1;32m    162\u001b[0m \u001b[0;34m\u001b[0m\u001b[0m\n\u001b[0;32m--> 163\u001b[0;31m         df = pd.read_csv('/home/jupyter/SPOcc/spocc/notebooks/Injected_LCs/tic272759551/' +str(shape) + '_ratio_'+ str(ratio)+'_velocity_' + str(velocity)+ '.csv'\n\u001b[0m\u001b[1;32m    164\u001b[0m                          \u001b[0;31m#'/home/jupyter/SPOcc/examples/EightBitTransit/examples/Random_LCs/Class_' + str(vertices) + '/ratio_'+ str(ratio)+ '.csv'\u001b[0m\u001b[0;34m\u001b[0m\u001b[0;34m\u001b[0m\u001b[0;34m\u001b[0m\u001b[0m\n\u001b[1;32m    165\u001b[0m                         )\n",
      "\u001b[0;32m/opt/conda/envs/spocc/lib/python3.6/site-packages/pandas/io/parsers.py\u001b[0m in \u001b[0;36mread_csv\u001b[0;34m(filepath_or_buffer, sep, delimiter, header, names, index_col, usecols, squeeze, prefix, mangle_dupe_cols, dtype, engine, converters, true_values, false_values, skipinitialspace, skiprows, skipfooter, nrows, na_values, keep_default_na, na_filter, verbose, skip_blank_lines, parse_dates, infer_datetime_format, keep_date_col, date_parser, dayfirst, cache_dates, iterator, chunksize, compression, thousands, decimal, lineterminator, quotechar, quoting, doublequote, escapechar, comment, encoding, dialect, error_bad_lines, warn_bad_lines, delim_whitespace, low_memory, memory_map, float_precision)\u001b[0m\n\u001b[1;32m    686\u001b[0m     )\n\u001b[1;32m    687\u001b[0m \u001b[0;34m\u001b[0m\u001b[0m\n\u001b[0;32m--> 688\u001b[0;31m     \u001b[0;32mreturn\u001b[0m \u001b[0m_read\u001b[0m\u001b[0;34m(\u001b[0m\u001b[0mfilepath_or_buffer\u001b[0m\u001b[0;34m,\u001b[0m \u001b[0mkwds\u001b[0m\u001b[0;34m)\u001b[0m\u001b[0;34m\u001b[0m\u001b[0;34m\u001b[0m\u001b[0m\n\u001b[0m\u001b[1;32m    689\u001b[0m \u001b[0;34m\u001b[0m\u001b[0m\n\u001b[1;32m    690\u001b[0m \u001b[0;34m\u001b[0m\u001b[0m\n",
      "\u001b[0;32m/opt/conda/envs/spocc/lib/python3.6/site-packages/pandas/io/parsers.py\u001b[0m in \u001b[0;36m_read\u001b[0;34m(filepath_or_buffer, kwds)\u001b[0m\n\u001b[1;32m    452\u001b[0m \u001b[0;34m\u001b[0m\u001b[0m\n\u001b[1;32m    453\u001b[0m     \u001b[0;31m# Create the parser.\u001b[0m\u001b[0;34m\u001b[0m\u001b[0;34m\u001b[0m\u001b[0;34m\u001b[0m\u001b[0m\n\u001b[0;32m--> 454\u001b[0;31m     \u001b[0mparser\u001b[0m \u001b[0;34m=\u001b[0m \u001b[0mTextFileReader\u001b[0m\u001b[0;34m(\u001b[0m\u001b[0mfp_or_buf\u001b[0m\u001b[0;34m,\u001b[0m \u001b[0;34m**\u001b[0m\u001b[0mkwds\u001b[0m\u001b[0;34m)\u001b[0m\u001b[0;34m\u001b[0m\u001b[0;34m\u001b[0m\u001b[0m\n\u001b[0m\u001b[1;32m    455\u001b[0m \u001b[0;34m\u001b[0m\u001b[0m\n\u001b[1;32m    456\u001b[0m     \u001b[0;32mif\u001b[0m \u001b[0mchunksize\u001b[0m \u001b[0;32mor\u001b[0m \u001b[0miterator\u001b[0m\u001b[0;34m:\u001b[0m\u001b[0;34m\u001b[0m\u001b[0;34m\u001b[0m\u001b[0m\n",
      "\u001b[0;32m/opt/conda/envs/spocc/lib/python3.6/site-packages/pandas/io/parsers.py\u001b[0m in \u001b[0;36m__init__\u001b[0;34m(self, f, engine, **kwds)\u001b[0m\n\u001b[1;32m    946\u001b[0m             \u001b[0mself\u001b[0m\u001b[0;34m.\u001b[0m\u001b[0moptions\u001b[0m\u001b[0;34m[\u001b[0m\u001b[0;34m\"has_index_names\"\u001b[0m\u001b[0;34m]\u001b[0m \u001b[0;34m=\u001b[0m \u001b[0mkwds\u001b[0m\u001b[0;34m[\u001b[0m\u001b[0;34m\"has_index_names\"\u001b[0m\u001b[0;34m]\u001b[0m\u001b[0;34m\u001b[0m\u001b[0;34m\u001b[0m\u001b[0m\n\u001b[1;32m    947\u001b[0m \u001b[0;34m\u001b[0m\u001b[0m\n\u001b[0;32m--> 948\u001b[0;31m         \u001b[0mself\u001b[0m\u001b[0;34m.\u001b[0m\u001b[0m_make_engine\u001b[0m\u001b[0;34m(\u001b[0m\u001b[0mself\u001b[0m\u001b[0;34m.\u001b[0m\u001b[0mengine\u001b[0m\u001b[0;34m)\u001b[0m\u001b[0;34m\u001b[0m\u001b[0;34m\u001b[0m\u001b[0m\n\u001b[0m\u001b[1;32m    949\u001b[0m \u001b[0;34m\u001b[0m\u001b[0m\n\u001b[1;32m    950\u001b[0m     \u001b[0;32mdef\u001b[0m \u001b[0mclose\u001b[0m\u001b[0;34m(\u001b[0m\u001b[0mself\u001b[0m\u001b[0;34m)\u001b[0m\u001b[0;34m:\u001b[0m\u001b[0;34m\u001b[0m\u001b[0;34m\u001b[0m\u001b[0m\n",
      "\u001b[0;32m/opt/conda/envs/spocc/lib/python3.6/site-packages/pandas/io/parsers.py\u001b[0m in \u001b[0;36m_make_engine\u001b[0;34m(self, engine)\u001b[0m\n\u001b[1;32m   1178\u001b[0m     \u001b[0;32mdef\u001b[0m \u001b[0m_make_engine\u001b[0m\u001b[0;34m(\u001b[0m\u001b[0mself\u001b[0m\u001b[0;34m,\u001b[0m \u001b[0mengine\u001b[0m\u001b[0;34m=\u001b[0m\u001b[0;34m\"c\"\u001b[0m\u001b[0;34m)\u001b[0m\u001b[0;34m:\u001b[0m\u001b[0;34m\u001b[0m\u001b[0;34m\u001b[0m\u001b[0m\n\u001b[1;32m   1179\u001b[0m         \u001b[0;32mif\u001b[0m \u001b[0mengine\u001b[0m \u001b[0;34m==\u001b[0m \u001b[0;34m\"c\"\u001b[0m\u001b[0;34m:\u001b[0m\u001b[0;34m\u001b[0m\u001b[0;34m\u001b[0m\u001b[0m\n\u001b[0;32m-> 1180\u001b[0;31m             \u001b[0mself\u001b[0m\u001b[0;34m.\u001b[0m\u001b[0m_engine\u001b[0m \u001b[0;34m=\u001b[0m \u001b[0mCParserWrapper\u001b[0m\u001b[0;34m(\u001b[0m\u001b[0mself\u001b[0m\u001b[0;34m.\u001b[0m\u001b[0mf\u001b[0m\u001b[0;34m,\u001b[0m \u001b[0;34m**\u001b[0m\u001b[0mself\u001b[0m\u001b[0;34m.\u001b[0m\u001b[0moptions\u001b[0m\u001b[0;34m)\u001b[0m\u001b[0;34m\u001b[0m\u001b[0;34m\u001b[0m\u001b[0m\n\u001b[0m\u001b[1;32m   1181\u001b[0m         \u001b[0;32melse\u001b[0m\u001b[0;34m:\u001b[0m\u001b[0;34m\u001b[0m\u001b[0;34m\u001b[0m\u001b[0m\n\u001b[1;32m   1182\u001b[0m             \u001b[0;32mif\u001b[0m \u001b[0mengine\u001b[0m \u001b[0;34m==\u001b[0m \u001b[0;34m\"python\"\u001b[0m\u001b[0;34m:\u001b[0m\u001b[0;34m\u001b[0m\u001b[0;34m\u001b[0m\u001b[0m\n",
      "\u001b[0;32m/opt/conda/envs/spocc/lib/python3.6/site-packages/pandas/io/parsers.py\u001b[0m in \u001b[0;36m__init__\u001b[0;34m(self, src, **kwds)\u001b[0m\n\u001b[1;32m   2008\u001b[0m         \u001b[0mkwds\u001b[0m\u001b[0;34m[\u001b[0m\u001b[0;34m\"usecols\"\u001b[0m\u001b[0;34m]\u001b[0m \u001b[0;34m=\u001b[0m \u001b[0mself\u001b[0m\u001b[0;34m.\u001b[0m\u001b[0musecols\u001b[0m\u001b[0;34m\u001b[0m\u001b[0;34m\u001b[0m\u001b[0m\n\u001b[1;32m   2009\u001b[0m \u001b[0;34m\u001b[0m\u001b[0m\n\u001b[0;32m-> 2010\u001b[0;31m         \u001b[0mself\u001b[0m\u001b[0;34m.\u001b[0m\u001b[0m_reader\u001b[0m \u001b[0;34m=\u001b[0m \u001b[0mparsers\u001b[0m\u001b[0;34m.\u001b[0m\u001b[0mTextReader\u001b[0m\u001b[0;34m(\u001b[0m\u001b[0msrc\u001b[0m\u001b[0;34m,\u001b[0m \u001b[0;34m**\u001b[0m\u001b[0mkwds\u001b[0m\u001b[0;34m)\u001b[0m\u001b[0;34m\u001b[0m\u001b[0;34m\u001b[0m\u001b[0m\n\u001b[0m\u001b[1;32m   2011\u001b[0m         \u001b[0mself\u001b[0m\u001b[0;34m.\u001b[0m\u001b[0munnamed_cols\u001b[0m \u001b[0;34m=\u001b[0m \u001b[0mself\u001b[0m\u001b[0;34m.\u001b[0m\u001b[0m_reader\u001b[0m\u001b[0;34m.\u001b[0m\u001b[0munnamed_cols\u001b[0m\u001b[0;34m\u001b[0m\u001b[0;34m\u001b[0m\u001b[0m\n\u001b[1;32m   2012\u001b[0m \u001b[0;34m\u001b[0m\u001b[0m\n",
      "\u001b[0;32mpandas/_libs/parsers.pyx\u001b[0m in \u001b[0;36mpandas._libs.parsers.TextReader.__cinit__\u001b[0;34m()\u001b[0m\n",
      "\u001b[0;32mpandas/_libs/parsers.pyx\u001b[0m in \u001b[0;36mpandas._libs.parsers.TextReader._setup_parser_source\u001b[0;34m()\u001b[0m\n",
      "\u001b[0;31mFileNotFoundError\u001b[0m: [Errno 2] No such file or directory: '/home/jupyter/SPOcc/spocc/notebooks/Injected_LCs/tic272759551/Square_ratio_2_velocity_2.2.csv'"
     ]
    }
   ],
   "source": [
    "# Mstats for widths\n",
    "shape = 'Square' \n",
    "ratio = 2 #triangles ratio 1.4, other ratio 2\n",
    "\n",
    "widths = find_width(shape, ratio)\n",
    "plot_mstat_width(shape, ratio, widths)"
   ]
  },
  {
   "cell_type": "code",
   "execution_count": 9,
   "id": "7f3b5541-5399-498e-a2e3-7470fdbccd7e",
   "metadata": {
    "tags": []
   },
   "outputs": [
    {
     "name": "stdout",
     "output_type": "stream",
     "text": [
      "       time               flux             flux_err      quality\n",
      "                                                                \n",
      "------------------ ------------------ ------------------ -------\n",
      "1790.6767428926423 1.0015341614877622  1.406499881599456       0\n",
      " 1790.697576194748  0.989205937314717 1.4132495594693988       0\n",
      "1790.7184094980248 0.9955108391371043 1.4030835869332245       0\n",
      "1790.7392428023713 0.9860754544755206  1.404352167296788       0\n",
      "1790.7600761076653 1.0042495761263495 1.4062110724282766       0\n",
      " 1790.780909413771  0.993693331805233  1.410369230447175       0\n",
      " 1790.801742720542 0.9939422763386427 1.4013197247014628       0\n",
      "1790.8225760278197 1.0087433742000707 1.4024290282991796       0\n",
      "1790.8434093354392 1.0029960829202271  1.402695716152301       0\n",
      "1790.8642426432332 0.9923900305487169 1.4033526566013288       0\n",
      "               ...                ...                ...     ...\n",
      "1814.6767661952822 1.2832372351914652 2.2836270045066986       0\n",
      "1814.6975996131068 1.3205528988483588  2.355208010024735       0\n",
      "1814.7184330317211  1.416202151736297 2.4394589130956685       0\n",
      "1814.7392664509753 1.5101938395561694  2.529323371313882       0\n",
      "1814.7600998707105  1.586749111692674  2.621020864110326       0\n",
      "1814.7809332907618 1.6981485359410216  2.710026445378566       0\n",
      "1814.8226001311332 1.9001157713795678 2.8802325403231483       0\n",
      "1814.8434335511154 1.9425610983871056 2.9589239107741543       0\n",
      "1814.8642669707433 2.0878409332078647 3.0375486633008224       0\n",
      "1814.8851003898624  2.178586670210217 3.1144033473099353       0\n",
      "Length = 952 rows\n"
     ]
    },
    {
     "ename": "AttributeError",
     "evalue": "'Time' object has no attribute 'values'",
     "output_type": "error",
     "traceback": [
      "\u001b[0;31m---------------------------------------------------------------------------\u001b[0m",
      "\u001b[0;31mAttributeError\u001b[0m                            Traceback (most recent call last)",
      "\u001b[0;32m<ipython-input-9-63623d3625c6>\u001b[0m in \u001b[0;36m<module>\u001b[0;34m\u001b[0m\n\u001b[1;32m      9\u001b[0m \u001b[0mlc\u001b[0m \u001b[0;34m=\u001b[0m \u001b[0mlcc\u001b[0m\u001b[0;34m.\u001b[0m\u001b[0mload_cut_lc\u001b[0m\u001b[0;34m(\u001b[0m\u001b[0mlcc\u001b[0m\u001b[0;34m[\u001b[0m\u001b[0;36m0\u001b[0m\u001b[0;34m]\u001b[0m\u001b[0;34m)\u001b[0m\u001b[0;34m\u001b[0m\u001b[0;34m\u001b[0m\u001b[0m\n\u001b[1;32m     10\u001b[0m \u001b[0mprint\u001b[0m\u001b[0;34m(\u001b[0m\u001b[0mlc\u001b[0m\u001b[0;34m)\u001b[0m\u001b[0;34m\u001b[0m\u001b[0;34m\u001b[0m\u001b[0m\n\u001b[0;32m---> 11\u001b[0;31m \u001b[0mplt\u001b[0m\u001b[0;34m.\u001b[0m\u001b[0mplot\u001b[0m\u001b[0;34m(\u001b[0m\u001b[0mlc\u001b[0m\u001b[0;34m.\u001b[0m\u001b[0mtime\u001b[0m\u001b[0;34m.\u001b[0m\u001b[0mvalues\u001b[0m\u001b[0;34m,\u001b[0m \u001b[0mlc\u001b[0m\u001b[0;34m.\u001b[0m\u001b[0mflux\u001b[0m\u001b[0;34m.\u001b[0m\u001b[0mvalues\u001b[0m\u001b[0;34m)\u001b[0m\u001b[0;34m\u001b[0m\u001b[0;34m\u001b[0m\u001b[0m\n\u001b[0m",
      "\u001b[0;32m/opt/conda/envs/spocc/lib/python3.6/site-packages/astropy/time/core.py\u001b[0m in \u001b[0;36m__getattr__\u001b[0;34m(self, attr)\u001b[0m\n\u001b[1;32m   1734\u001b[0m         \u001b[0;32melse\u001b[0m\u001b[0;34m:\u001b[0m\u001b[0;34m\u001b[0m\u001b[0;34m\u001b[0m\u001b[0m\n\u001b[1;32m   1735\u001b[0m             \u001b[0;31m# Should raise AttributeError\u001b[0m\u001b[0;34m\u001b[0m\u001b[0;34m\u001b[0m\u001b[0;34m\u001b[0m\u001b[0m\n\u001b[0;32m-> 1736\u001b[0;31m             \u001b[0;32mreturn\u001b[0m \u001b[0mself\u001b[0m\u001b[0;34m.\u001b[0m\u001b[0m__getattribute__\u001b[0m\u001b[0;34m(\u001b[0m\u001b[0mattr\u001b[0m\u001b[0;34m)\u001b[0m\u001b[0;34m\u001b[0m\u001b[0;34m\u001b[0m\u001b[0m\n\u001b[0m\u001b[1;32m   1737\u001b[0m \u001b[0;34m\u001b[0m\u001b[0m\n\u001b[1;32m   1738\u001b[0m     \u001b[0;34m@\u001b[0m\u001b[0moverride__dir__\u001b[0m\u001b[0;34m\u001b[0m\u001b[0;34m\u001b[0m\u001b[0m\n",
      "\u001b[0;31mAttributeError\u001b[0m: 'Time' object has no attribute 'values'"
     ]
    }
   ],
   "source": [
    "#ref = loaders.load_ref(18, \"/mnt/disks/lcs/tess-goddard-lcs/\")\n",
    "\n",
    "data_dir = \"/home/jupyter/mountpoint/\"  # path for bucket\n",
    "\n",
    "ref = loaders.load_ref(18, data_dir) #sector 18 camera 2\n",
    "\n",
    "subref = ref[ref.TIC_ID.isin([232615474])]#377199128 # overplot with this anomalous\n",
    "lcc = loaders.LightCurveCollection(subref)\n",
    "lc = lcc.load_cut_lc(lcc[0])\n",
    "print(lc)\n",
    "plt.plot(lc.time.values, lc.flux.values)"
   ]
  },
  {
   "cell_type": "code",
   "execution_count": null,
   "id": "aa843df9-3a71-4f89-b3bf-1a4bc8912344",
   "metadata": {},
   "outputs": [],
   "source": [
    "from extern import features\n",
    "features.feats(noise['Time'].values, noise['Flux'].values, noise['Flux_err'].values)\n"
   ]
  },
  {
   "cell_type": "code",
   "execution_count": null,
   "id": "3271ca5d-720d-40f6-a3cc-202e064947d2",
   "metadata": {},
   "outputs": [],
   "source": []
  },
  {
   "cell_type": "code",
   "execution_count": 46,
   "id": "bb58fcfe-48cd-4f4d-9bcd-675bc3f1ad19",
   "metadata": {},
   "outputs": [
    {
     "name": "stdout",
     "output_type": "stream",
     "text": [
      "ratio 0.07\n",
      "min 0.0012056106351838734\n",
      "mstat: 1.4380773421178887\n",
      "\n",
      "ratio 0.16\n",
      "min 0.029773292133689174\n",
      "mstat: 1.4436079796865722\n",
      "\n",
      "ratio 0.25\n",
      "min 0.08315980685153346\n",
      "mstat: 1.447997255292576\n",
      "\n",
      "ratio 0.34\n",
      "min 0.1457901240120696\n",
      "mstat: 1.4505037102290774\n",
      "\n",
      "ratio 0.43\n",
      "min 0.2294094523257181\n",
      "mstat: 1.4509130623111084\n",
      "\n",
      "ratio 0.52\n",
      "min 0.3301761276929737\n",
      "mstat: 1.4468309824160877\n",
      "\n",
      "ratio 0.61\n",
      "min 0.44727323797598695\n",
      "mstat: 1.4321649549645488\n",
      "\n",
      "ratio 0.7\n",
      "min 0.5587811265318097\n",
      "mstat: 1.4012258448498456\n",
      "\n",
      "ratio 0.79\n",
      "min 0.6855671839390831\n",
      "mstat: 1.3293646979736127\n",
      "\n",
      "ratio 0.88\n",
      "min 0.8140347367162338\n",
      "mstat: 1.1909895975186127\n",
      "\n",
      "ratio 0.97\n",
      "min 0.940800449085442\n",
      "mstat: 0.9282165339643405\n",
      "\n",
      "ratio 0.99\n",
      "min 0.9704621375202276\n",
      "mstat: 0.8457897081735073\n",
      "\n",
      "ratio 0.07\n",
      "min 0.0277892818166674\n",
      "mstat: 1.4627258463838486\n",
      "\n",
      "ratio 0.16\n",
      "min 0.10030847033798862\n",
      "mstat: 1.465256154307992\n",
      "\n",
      "ratio 0.25\n",
      "min 0.1835939677958307\n",
      "mstat: 1.4642345457527826\n",
      "\n",
      "ratio 0.34\n",
      "min 0.2674718160418341\n",
      "mstat: 1.4612124989509225\n",
      "\n",
      "ratio 0.43\n",
      "min 0.3570796209462639\n",
      "mstat: 1.4534240772972384\n",
      "\n",
      "ratio 0.52\n",
      "min 0.4480727695373099\n",
      "mstat: 1.4375977227512797\n",
      "\n",
      "ratio 0.61\n",
      "min 0.5445668374059087\n",
      "mstat: 1.4083463705652979\n",
      "\n",
      "ratio 0.7\n",
      "min 0.6398132388396749\n",
      "mstat: 1.3602017714415202\n",
      "\n",
      "ratio 0.79\n",
      "min 0.7404878564114228\n",
      "mstat: 1.2793430698721426\n",
      "\n",
      "ratio 0.88\n",
      "min 0.8437791240632286\n",
      "mstat: 1.1409394022957229\n",
      "\n",
      "ratio 0.97\n",
      "min 0.9480833660048764\n",
      "mstat: 0.9085307265285429\n",
      "\n",
      "ratio 0.99\n",
      "min 0.9712855336655072\n",
      "mstat: 0.8419644110029118\n",
      "\n",
      "ratio 0.07\n",
      "min 0.5289214710979768\n",
      "mstat: 1.4019820360149358\n",
      "\n",
      "ratio 0.16\n",
      "min 0.596197894278268\n",
      "mstat: 1.3796213121663619\n",
      "\n",
      "ratio 0.25\n",
      "min 0.6804828914101395\n",
      "mstat: 1.3336115406648232\n",
      "\n",
      "ratio 0.34\n",
      "min 0.7847721306672716\n",
      "mstat: 1.2369730617076684\n",
      "\n",
      "ratio 0.43\n",
      "min 0.8965471990516575\n",
      "mstat: 1.0369198470149241\n",
      "\n",
      "ratio 0.49\n",
      "min 0.9712855336655072\n",
      "mstat: 0.8430249477276062\n",
      "\n"
     ]
    },
    {
     "data": {
      "image/png": "[encoded data removed]",
      "text/plain": [
       "<Figure size 432x288 with 1 Axes>"
      ]
     },
     "metadata": {
      "needs_background": "light"
     },
     "output_type": "display_data"
    }
   ],
   "source": [
    "#Mstat for depths\n",
    "shape = 'Triangle'\n",
    "vertices = 11\n",
    "\n",
    "plot_mstat_depth('Square')\n",
    "plot_mstat_depth('Circle')\n",
    "plot_mstat_depth('Triangle')\n",
    "#velocity 0.6"
   ]
  },
  {
   "cell_type": "code",
   "execution_count": 45,
   "id": "a287efc4-2289-444a-b540-a8909a8bb507",
   "metadata": {},
   "outputs": [
    {
     "name": "stdout",
     "output_type": "stream",
     "text": [
      "[10.11196911  7.56833977  6.06718147  4.31583012  3.02316602  1.66795367]\n",
      "[0.3 0.4 0.5 0.7 1.  1.8]\n",
      "[10.11196911  7.56833977  6.06718147  4.31583012  3.02316602  1.66795367]\n",
      "[0.3 0.4 0.5 0.7 1.  1.8]\n",
      "[10.02857143  7.50579151  6.0046332   4.29498069  3.0023166   1.64710425]\n",
      "[0.3 0.4 0.5 0.7 1.  1.8]\n"
     ]
    },
    {
     "data": {
      "image/png": "[encoded data removed]",
      "text/plain": [
       "<Figure size 432x288 with 1 Axes>"
      ]
     },
     "metadata": {
      "needs_background": "light"
     },
     "output_type": "display_data"
    }
   ],
   "source": [
    "widths = find_width('Square', 2)\n",
    "plot_mstat_width('Square', 2, widths)\n",
    "widths = find_width('Circle', 2)\n",
    "plot_mstat_width('Circle', 2, widths)\n",
    "widths = find_width('Triangle', 1.4)\n",
    "plot_mstat_width('Triangle', 1.4, widths)"
   ]
  },
  {
   "cell_type": "code",
   "execution_count": null,
   "id": "4652f84d-b23c-4ea3-abce-49bf42330e92",
   "metadata": {},
   "outputs": [],
   "source": []
  }
 ],
 "metadata": {
  "environment": {
   "kernel": "spocc",
   "name": "common-cpu.m108",
   "type": "gcloud",
   "uri": "gcr.io/deeplearning-platform-release/base-cpu:m108"
  },
  "kernelspec": {
   "display_name": "spocc",
   "language": "python",
   "name": "spocc"
  },
  "language_info": {
   "codemirror_mode": {
    "name": "ipython",
    "version": 3
   },
   "file_extension": ".py",
   "mimetype": "text/x-python",
   "name": "python",
   "nbconvert_exporter": "python",
   "pygments_lexer": "ipython3",
   "version": "3.6.15"
  }
 },
 "nbformat": 4,
 "nbformat_minor": 5
}
