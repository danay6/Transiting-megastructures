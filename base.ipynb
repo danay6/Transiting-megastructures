{
 "cells": [
  {
   "cell_type": "markdown",
   "id": "bc31d8cd-a7ed-40ce-bdc3-c07841df32c7",
   "metadata": {},
   "source": [
    "### This notebook serves as a template for other notebooks, copy it to a new file and work from there rather than modifying this notebook."
   ]
  },
  {
   "cell_type": "code",
   "execution_count": null,
   "id": "dbf00461-4024-4891-b180-2fa02fec4463",
   "metadata": {
    "tags": [
     "imports"
    ]
   },
   "outputs": [],
   "source": [
    "# generally useful imports\n",
    "import pandas as pd\n",
    "import numpy as np\n",
    "\n",
    "# Mount data either from disk or bucket\n",
    "from pathlib import Path\n",
    "home = str(Path.home())\n",
    "try:\n",
    "    data_dir = \"/mnt/disks/lcs/tess-goddard-lcs/\"  # for disk\n",
    "except:\n",
    "    data_dir = home + \"/mountpoint/\"  # for bucket\n",
    "\n",
    "# Add spocc directory to the path to import spocc modules\n",
    "import os\n",
    "import sys\n",
    "module_path = os.path.abspath(os.path.join('..'))\n",
    "if module_path not in sys.path:\n",
    "    sys.path.append(module_path)\n",
    "\n",
    "import data\n",
    "import loaders\n",
    "\n",
    "%load_ext autoreload\n",
    "%autoreload 2"
   ]
  },
  {
   "cell_type": "code",
   "execution_count": null,
   "id": "f2bf804e-32f9-4fa0-9a5e-d9a8257e3bf6",
   "metadata": {},
   "outputs": [],
   "source": [
    "# Make sure you can load data\n",
    "try:\n",
    "    # check if the lookup file for sector one exists\n",
    "    ref = pd.read_csv(data_dir+\"sector1lookup.csv\")\n",
    "except FileNotFoundError:\n",
    "    # If not, try to mount it.\n",
    "    #! The following line needs to be changed to match the data_dir\n",
    "    os.system(\n",
    "        f\"gcsfuse --implicit-dirs tess-goddard-lcs {data_dir}\"\n",
    "    )\n",
    "    ref = pd.read_csv(data_dir+\"sector1lookup.csv\")\n",
    "    \n",
    "ref.head()"
   ]
  },
  {
   "cell_type": "markdown",
   "id": "c0356686-e8bf-451b-944a-8be59c54895f",
   "metadata": {},
   "source": [
    "# Load lookup table"
   ]
  },
  {
   "cell_type": "code",
   "execution_count": null,
   "id": "2466e84a-071a-41f1-a335-4859994ea3ac",
   "metadata": {},
   "outputs": [],
   "source": [
    "## Loading in the skyportal lookup table, constrained to the most anomalous from each sector\n",
    "ref = pd.read_csv(\"/home/jupyter/skyportal_lookup.csv\", index_col=0)\n",
    "## Loading in a lookup table for a specific sector\n",
    "# s = 1\n",
    "# ref = pd.read_csv(data_dir+f\"sector{s}lookup.csv\")"
   ]
  },
  {
   "cell_type": "markdown",
   "id": "cd6d8a4a-885f-4b5f-9169-9075dcecc3bb",
   "metadata": {},
   "source": [
    "## Create reference table of interest"
   ]
  },
  {
   "cell_type": "code",
   "execution_count": null,
   "id": "29107cd4-7a8b-4689-bcba-e84c5cb7dbba",
   "metadata": {},
   "outputs": [],
   "source": [
    "# Change this cell to create a reference dataframe with targets of interest\n",
    "## Example for a given sector/camera\n",
    "i = j = 1\n",
    "subref = ref[(ref.Sector==i)&(ref.Camera==j)] \n",
    "\n",
    "## Example for specific TICs in a particular sector\n",
    "# tics = [124106762, 52640302, 147314529, 287326187, 370101492, 93420238, 35718753, 34442932]\n",
    "# subref = ref[(ref.Sector==i)&(ref.TIC_ID.isin(tics)]"
   ]
  },
  {
   "cell_type": "markdown",
   "id": "747928a1-ab76-4692-b4b0-0a38c419ddc1",
   "metadata": {},
   "source": [
    "# Load light curves"
   ]
  },
  {
   "cell_type": "markdown",
   "id": "0088cdae-439b-4652-a13f-6eea81770888",
   "metadata": {},
   "source": [
    "## Individual light curve"
   ]
  },
  {
   "cell_type": "code",
   "execution_count": null,
   "id": "86ef61fe-d5f2-4316-a58e-16292fec10e8",
   "metadata": {},
   "outputs": [],
   "source": [
    "# this loads lightcurves without MAD cuts or quality filters\n",
    "f0 = data_dir+subref.Filename.values[0]\n",
    "lc = loaders.load_lc(f0)"
   ]
  },
  {
   "cell_type": "markdown",
   "id": "263cbb48-4fa0-41b6-ac87-3e9619da1b7c",
   "metadata": {},
   "source": [
    "## Set of light curves"
   ]
  },
  {
   "cell_type": "code",
   "execution_count": null,
   "id": "9ab2aebb-26fd-4e67-8513-dea1382164f2",
   "metadata": {},
   "outputs": [],
   "source": [
    "def load_subref_lcs(subref):\n",
    "    if subref.shape[0]>500:\n",
    "        subref = subref.iloc[:500]\n",
    "\n",
    "    files = data_dir+subref.Filename.values\n",
    "\n",
    "    sec = subref.Sector.values\n",
    "    cam = subref.Camera.values\n",
    "    # this will load light curves with MAD cuts and quality filters by default\n",
    "    lcc = loaders.LightCurveCollection(sec, cam, files)\n",
    "\n",
    "    lcc.load_all_lcs()\n",
    "\n",
    "    return lcs"
   ]
  },
  {
   "cell_type": "markdown",
   "id": "05ae1672-f92d-4a51-86c7-f9bffffde07d",
   "metadata": {},
   "source": [
    "# Data analysis goes here"
   ]
  },
  {
   "cell_type": "code",
   "execution_count": null,
   "id": "064a270f-df37-4b51-8ac8-9eb8ba4d267d",
   "metadata": {},
   "outputs": [],
   "source": []
  }
 ],
 "metadata": {
  "environment": {
   "name": "common-cpu.m75",
   "type": "gcloud",
   "uri": "gcr.io/deeplearning-platform-release/base-cpu:m75"
  },
  "kernelspec": {
   "display_name": "Python [conda env:spocc]",
   "language": "python",
   "name": "conda-env-spocc-py"
  },
  "language_info": {
   "codemirror_mode": {
    "name": "ipython",
    "version": 3
   },
   "file_extension": ".py",
   "mimetype": "text/x-python",
   "name": "python",
   "nbconvert_exporter": "python",
   "pygments_lexer": "ipython3",
   "version": "3.6.13"
  }
 },
 "nbformat": 4,
 "nbformat_minor": 5
}
