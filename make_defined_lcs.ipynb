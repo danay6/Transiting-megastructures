{
 "cells": [
  {
   "cell_type": "code",
   "execution_count": 104,
   "metadata": {},
   "outputs": [
    {
     "name": "stdout",
     "output_type": "stream",
     "text": [
      "The autoreload extension is already loaded. To reload it, use:\n",
      "  %reload_ext autoreload\n"
     ]
    }
   ],
   "source": [
    "import numpy as np\n",
    "import matplotlib.pyplot as plt\n",
    "\n",
    "from matplotlib import gridspec\n",
    "import copy\n",
    "import os\n",
    "from tqdm import tqdm \n",
    "\n",
    "from EightBitTransit.cTransitingImage import TransitingImage\n",
    "from EightBitTransit.inversion import *\n",
    "from EightBitTransit.misc import *\n",
    "from scipy.optimize import lsq_linear\n",
    "\n",
    "%matplotlib inline\n",
    "\n",
    "\n",
    "import matplotlib.path as mpath\n",
    "import matplotlib.patches as mpatches\n",
    "import numpy as np\n",
    "import matplotlib.pyplot as plt\n",
    "import pandas as pd\n",
    "from matplotlib.patches import Polygon\n",
    "from matplotlib.patches import Rectangle\n",
    "from matplotlib.patches import Wedge\n",
    "\n",
    "\n",
    "from PIL import Image \n",
    "\n",
    "\n",
    "# Add spocc directory to the path to import spocc modules\n",
    "import os\n",
    "import sys\n",
    "module_path = os.path.abspath(os.path.join('..'))\n",
    "if module_path not in sys.path:\n",
    "    sys.path.append(module_path)\n",
    "\n",
    "import data\n",
    "import loaders\n",
    "\n",
    "\n",
    "# These \"magic\" functions work in jupyter notebooks, this one reloads\n",
    "# modules so if you make changes, you don't have to restart the notebook.\n",
    "%load_ext autoreload\n",
    "%autoreload 2"
   ]
  },
  {
   "cell_type": "code",
   "execution_count": 221,
   "metadata": {
    "tags": []
   },
   "outputs": [],
   "source": [
    "#round shapes\n",
    "\n",
    "\n",
    "def make_shape(image_ratio, velocity, shape, t_ref):\n",
    "    \n",
    "    image_ratio = image_ratio\n",
    "    image_ratio_high = 1 + .5* (image_ratio -1)\n",
    "    image_ratio_low = -.5 * (image_ratio-1)\n",
    "    print(image_ratio_high, image_ratio_low)\n",
    "    \n",
    "    v = float(velocity)\n",
    "\n",
    "    if shape == 'Circle':\n",
    "        circle = plt.Circle((0.5, 0.5), 0.5, color='black')\n",
    "\n",
    "        fig, ax = plt.subplots() # note we must use plt.subplots, not plt.subplot\n",
    "        # (or if you have an existing figure)\n",
    "        # fig = plt.gcf()\n",
    "        # ax = fig.gca()\n",
    "\n",
    "        ax.add_patch(circle)\n",
    "        ax.set_aspect('equal', adjustable='box')\n",
    "\n",
    "        plt.axis('off')\n",
    "        plt.xlim(0,1)\n",
    "        plt.ylim(image_ratio_low,image_ratio_high)\n",
    "        \n",
    "        os.makedirs(data_dir + \"/Class_%s\" %(shape), exist_ok=True)\n",
    "        img_file_name = data_dir + \"/Class_%s\" %(shape) + \"/%s\" %(shape)  +\"_ratio_%s\" %(image_ratio) +\"_velocity_%s.png\" %(velocity)\n",
    "        fig.savefig(img_file_name ,bbox_inches='tight', pad_inches = 0)\n",
    "\n",
    "    if shape == 'Triangle':\n",
    "        pts = np.array([[0,0], [1,0], [.5,0.866025]],)\n",
    "        p = Polygon(pts, closed=False, fc = 'black')\n",
    "        ax = plt.gca()\n",
    "        ax.add_patch(p)\n",
    "        ax.set_aspect('equal', adjustable='box')\n",
    "        plt.axis('off')\n",
    "        plt.xlim(0,1)\n",
    "        plt.ylim(image_ratio_low,image_ratio_high)\n",
    "\n",
    "        os.makedirs(data_dir + \"/Class_%s\" %(shape), exist_ok=True)\n",
    "        img_file_name = data_dir + \"/Class_%s\" %(shape) + \"/%s\" %(shape)  +\"_ratio_%s\" %(image_ratio) +\"_velocity_%s.png\" %(velocity)\n",
    "        plt.savefig(img_file_name ,bbox_inches='tight', pad_inches = 0)\n",
    "    \n",
    "    if shape == 'Square':\n",
    "        plt.axes()\n",
    "        square = plt.Rectangle((0,0),1,1, fc='black',ec=\"black\")\n",
    "        plt.gca().add_patch(square)\n",
    "        plt.axis('scaled')\n",
    "\n",
    "        plt.axis('off')\n",
    "        plt.ylim(image_ratio_low,image_ratio_high)\n",
    "        plt.xlim(0,1)\n",
    "\n",
    "\n",
    "        #display plot\n",
    "        plt.gcf()\n",
    "        plt.savefig('square.png',bbox_inches='tight', pad_inches = 0)\n",
    "        \n",
    "        os.makedirs(data_dir + \"/Class_%s\" %(shape), exist_ok=True)\n",
    "        img_file_name = data_dir + \"/Class_%s\" %(shape) + \"/%s\" %(shape)  +\"_ratio_%s\" %(image_ratio) +\"_velocity_%s.png\" %(velocity)\n",
    "        plt.savefig(img_file_name ,bbox_inches='tight', pad_inches = 0)\n",
    "\n",
    "    \n",
    "    if shape == 'Donut':\n",
    "        outer_circle = plt.Circle((0.5, 0.5), 0.5, color='black')\n",
    "        inner_circle = plt.Circle((0.25, 0.5), 0.2, facecolor='white', edgecolor='white')\n",
    "\n",
    "        fig, ax = plt.subplots()\n",
    "        ax.add_patch(outer_circle)\n",
    "        ax.add_patch(inner_circle)\n",
    "        ax.set_aspect('equal', adjustable='box')\n",
    "\n",
    "        plt.axis('off')\n",
    "        plt.xlim(0, 1)\n",
    "        plt.ylim(image_ratio_low, image_ratio_high)\n",
    "        plt.show()\n",
    "\n",
    "        os.makedirs(data_dir + \"/Class_%s\" % shape, exist_ok=True)\n",
    "        img_file_name = (\n",
    "            data_dir\n",
    "            + \"/Class_%s\" % shape\n",
    "            + \"/%s\" % shape\n",
    "            + \"_ratio_%s\" % image_ratio\n",
    "            + \"_velocity_%s.png\" % velocity\n",
    "        )\n",
    "        fig.savefig(img_file_name, bbox_inches='tight', pad_inches=0, transparent =True)\n",
    "        \n",
    "    if shape == 'Panels':\n",
    "        plt.axes()\n",
    "        square = plt.Rectangle((0,0),6,1, fc='black',ec=\"black\")\n",
    "        inner_circle = plt.Circle((3, .25), .25, facecolor='white', edgecolor='white')\n",
    "\n",
    "        plt.gca().add_patch(square)\n",
    "        plt.gca().add_patch(inner_circle)\n",
    "\n",
    "        plt.axis('scaled')\n",
    "\n",
    "        plt.axis('off')\n",
    "        plt.ylim(image_ratio_low,image_ratio_high)\n",
    "        plt.xlim(0,6)\n",
    "\n",
    "\n",
    "        #display plot\n",
    "        plt.gcf()\n",
    "        plt.savefig('square.png',bbox_inches='tight', pad_inches = 0)\n",
    "        \n",
    "        os.makedirs(data_dir + \"/Class_%s\" %(shape), exist_ok=True)\n",
    "        img_file_name = data_dir + \"/Class_%s\" %(shape) + \"/%s\" %(shape)  +\"_ratio_%s\" %(image_ratio) +\"_velocity_%s.png\" %(velocity)\n",
    "        plt.savefig(img_file_name ,bbox_inches='tight', pad_inches = 0)\n",
    "\n",
    "    #######\n",
    "    \n",
    "    # Read back in the image file.\n",
    "\n",
    "    # an array of times, in days, over which to calculate the light curve \n",
    "    times = np.linspace(0,27,1296)\n",
    "\n",
    "    file = img_file_name\n",
    "\n",
    "    lowres_SItitle = TransitingImage(imfile=file,\n",
    "                                     lowres=50,\n",
    "                                     lowrestype=\"mean\", # Calculate the lower-resolution version of the image by averaging \"neighborhoods\" of pixels in the high-res image.\n",
    "                                     lowresround=False, # Let the resulting low-res pixel values take on intermediate values between 0 and 1, i.e. don't round them to 0 or 1.\n",
    "                                     v=velocity,\n",
    "                                     t_ref=t_ref,\n",
    "                                     t_arr=times,\n",
    "                                     LDlaw = \"linear\",\n",
    "                                     LDCs = [0.4]\n",
    "                                    )\n",
    "    ##plot lowres version of image\n",
    "    lowres_SItitle.plot_grid()\n",
    "    \n",
    "    lowres_SItitle_LC, overlapTimes = lowres_SItitle.gen_LC(t_arr=times) \n",
    "    \n",
    "    #plot lightcurve\n",
    "    fig, ax = plt.subplots(1,1,figsize=(16,4))\n",
    "    ax.plot(overlapTimes,lowres_SItitle_LC,color=\"#1969ea\",ls=\"-\",lw=5)\n",
    "    #ax.set_xlim(-10,10)\n",
    "    plt.xlabel(\"Time [days]\",fontsize=14)\n",
    "    plt.ylabel(\"Relative flux\",fontsize=14)\n",
    "    plt.title(r\"The low-res image's light curve as it transits left-to-right across the star at $v = 0.3 d^{-1}$\",fontsize=16)\n",
    "    plt.show()\n",
    "    \n",
    "    print(\"min: \" + str(min(lowres_SItitle_LC)))\n",
    "\n",
    "    \n",
    "    list_of_tuples = list(zip(overlapTimes, lowres_SItitle_LC))\n",
    "    \n",
    "    txt_file_name = data_dir + \"/Class_%s\" %(shape) + \"/%s\" %(shape)  +\"_ratio_%s\" %(image_ratio) +\"_velocity_%s\" %(velocity)\n",
    "    \n",
    "    df = pd.DataFrame(list_of_tuples, columns=['Time', 'Flux'])\n",
    "    df.to_csv(txt_file_name + '.csv', index=False)\n",
    "    \n",
    "    #np.savetxt(txt_file_name, lowres_SItitle_LC, delimiter=\",\")\n"
   ]
  },
  {
   "cell_type": "code",
   "execution_count": 249,
   "metadata": {},
   "outputs": [],
   "source": [
    "np.random.seed() #how do we want to add LCs to TESS curves?\n",
    "import math\n",
    "\n",
    "def make_lc(shape, image_ratio, velocity, index):\n",
    "    #shape = \"Triangle\"\n",
    "    #ratio = \"2\"\n",
    "    #index=3\n",
    "\n",
    "    f0 = data_dir+subref.Filename.values[index]\n",
    "    lc = loaders.load_lc(f0)\n",
    "    #print(lc)\n",
    "    lc = lc[lc.quality==0]\n",
    "    lc = lc.normalize()\n",
    "    flux_err = lc.flux_err\n",
    "    #print(f0)\n",
    "    #print(flux_err[0])\n",
    "    #print(lc.time.value)\n",
    "    time = lc.time.value\n",
    "    time = [value - time[0] for value in time] #make time start at 0\n",
    "    # plt.scatter(time, lc.flux.value)\n",
    "    # plt.title(\"TESS Flux Only\")\n",
    "    # plt.show()\n",
    "\n",
    "\n",
    "    noise = pd.read_csv('/home/jupyter/SPOcc/spocc/notebooks/Random_LCs_tic251630511/Class_%s' %(shape) + \"/%s\" %(shape)  +\"_ratio_%s\" %(image_ratio) +\"_velocity_%s\" %(velocity)+'.csv')\n",
    "\n",
    "    sim_time = noise.iloc[:,0].values\n",
    "    sim_flux = noise.iloc[:,1].values\n",
    "    sim_flux = [x - 1 for x in sim_flux]\n",
    "\n",
    "\n",
    "    #print(sim_time)\n",
    "    # plt.scatter(sim_time, sim_flux)\n",
    "    # plt.title(\"Flux From 8BT\")\n",
    "    # plt.show()\n",
    "    #print(sim_time[-1])\n",
    "\n",
    "    after_interval = math.ceil((27 - sim_time[-1]) / 0.0208333333) #days to 30 minutes\n",
    "\n",
    "    sim_time_after = np.linspace(math.ceil(sim_time[-1]), 27, after_interval)\n",
    "    #print(sim_time_after)\n",
    "\n",
    "    sim_time = np.append(sim_time, sim_time_after)\n",
    "\n",
    "\n",
    "    sim_flux_after = np.zeros(len(sim_time_after))\n",
    "\n",
    "    sim_flux = np.append(sim_flux,sim_flux_after)\n",
    "\n",
    "    before_interval = math.ceil((sim_time[0]) / 0.0208333333) #days to 30 minutes\n",
    "\n",
    "    sim_time_before = np.linspace(0, math.floor(sim_time[0]), before_interval)\n",
    "    #print(sim_time_before)\n",
    "\n",
    "    sim_time = np.insert(sim_time, 0, sim_time_before)\n",
    "\n",
    "\n",
    "    sim_flux_before = np.zeros(len(sim_time_before))\n",
    "\n",
    "    sim_flux = np.insert(sim_flux, 0, sim_flux_before)    \n",
    "\n",
    "\n",
    "\n",
    "#     plt.scatter(sim_time, sim_flux)\n",
    "#     plt.title(\"Extended 8BT Flux\")\n",
    "#     plt.ylabel(\"Relative flux\",fontsize=14)\n",
    "\n",
    "#     plt.show()\n",
    "\n",
    "    sim_flux = np.interp(time, sim_time, sim_flux) \n",
    "    #print(sim_flux)\n",
    "\n",
    "    combined_flux = lc.flux.value + sim_flux\n",
    "\n",
    "#     plt.scatter(time, sim_flux)\n",
    "#     plt.title(\"Interpolated 8BT Flux\")\n",
    "#     plt.show()\n",
    "    plt.title(\"Combined 8BT & TESS Flux\")\n",
    "    plt.plot(time, combined_flux)\n",
    "    plt.xlabel(\"Time [days]\",fontsize=14)\n",
    "    #plt.show()\n",
    "\n",
    "\n",
    "    os.makedirs('./Injected_LCs_tic251630511', exist_ok=True)\n",
    "\n",
    "\n",
    "    list_of_tuples = list(zip(time, combined_flux, flux_err))\n",
    "\n",
    "    txt_file_name = './Injected_LCs_tic251630511' + \"/%s\" %(shape)  +\"_ratio_%s\" %(image_ratio) +\"_velocity_%s\" %(velocity)\n",
    "\n",
    "\n",
    "    df = pd.DataFrame(list_of_tuples, columns=['Time', 'Flux', 'Flux_err'])\n",
    "    df.to_csv(txt_file_name + '.csv', index=False)"
   ]
  },
  {
   "cell_type": "code",
   "execution_count": 259,
   "metadata": {},
   "outputs": [
    {
     "name": "stdout",
     "output_type": "stream",
     "text": [
      "1.039163866017192 -0.03916386601719213\n"
     ]
    },
    {
     "data": {
      "image/png": "[encoded data removed]",
      "text/plain": [
       "<Figure size 432x288 with 1 Axes>"
      ]
     },
     "metadata": {
      "needs_background": "light"
     },
     "output_type": "display_data"
    },
    {
     "data": {
      "image/png": "[encoded data removed]",
      "text/plain": [
       "<Figure size 576x576 with 1 Axes>"
      ]
     },
     "metadata": {
      "needs_background": "light"
     },
     "output_type": "display_data"
    },
    {
     "name": "stderr",
     "output_type": "stream",
     "text": [
      "/opt/conda/envs/spocc/lib/python3.6/site-packages/ipykernel_launcher.py:135: DeprecationWarning: elementwise comparison failed; this will raise an error in the future.\n"
     ]
    },
    {
     "ename": "KeyboardInterrupt",
     "evalue": "",
     "output_type": "error",
     "traceback": [
      "\u001b[0;31m---------------------------------------------------------------------------\u001b[0m",
      "\u001b[0;31mKeyboardInterrupt\u001b[0m                         Traceback (most recent call last)",
      "\u001b[0;32m<ipython-input-259-5fe177d6fc13>\u001b[0m in \u001b[0;36m<module>\u001b[0;34m\u001b[0m\n\u001b[1;32m     27\u001b[0m \u001b[0;32melif\u001b[0m \u001b[0mw_or_d\u001b[0m \u001b[0;34m==\u001b[0m \u001b[0;34m'D'\u001b[0m\u001b[0;34m:\u001b[0m\u001b[0;34m\u001b[0m\u001b[0;34m\u001b[0m\u001b[0m\n\u001b[1;32m     28\u001b[0m     \u001b[0;32mfor\u001b[0m \u001b[0mimage_ratio\u001b[0m \u001b[0;32min\u001b[0m \u001b[0mimage_ratios\u001b[0m\u001b[0;34m:\u001b[0m\u001b[0;34m\u001b[0m\u001b[0;34m\u001b[0m\u001b[0m\n\u001b[0;32m---> 29\u001b[0;31m         \u001b[0mmake_shape\u001b[0m\u001b[0;34m(\u001b[0m\u001b[0mimage_ratio\u001b[0m\u001b[0;34m,\u001b[0m \u001b[0mvelocity\u001b[0m\u001b[0;34m,\u001b[0m \u001b[0mshape\u001b[0m\u001b[0;34m,\u001b[0m \u001b[0mt_ref\u001b[0m\u001b[0;34m)\u001b[0m\u001b[0;34m\u001b[0m\u001b[0;34m\u001b[0m\u001b[0m\n\u001b[0m",
      "\u001b[0;32m<ipython-input-221-791eec57abce>\u001b[0m in \u001b[0;36mmake_shape\u001b[0;34m(image_ratio, velocity, shape, t_ref)\u001b[0m\n\u001b[1;32m    133\u001b[0m     \u001b[0mlowres_SItitle\u001b[0m\u001b[0;34m.\u001b[0m\u001b[0mplot_grid\u001b[0m\u001b[0;34m(\u001b[0m\u001b[0;34m)\u001b[0m\u001b[0;34m\u001b[0m\u001b[0;34m\u001b[0m\u001b[0m\n\u001b[1;32m    134\u001b[0m \u001b[0;34m\u001b[0m\u001b[0m\n\u001b[0;32m--> 135\u001b[0;31m     \u001b[0mlowres_SItitle_LC\u001b[0m\u001b[0;34m,\u001b[0m \u001b[0moverlapTimes\u001b[0m \u001b[0;34m=\u001b[0m \u001b[0mlowres_SItitle\u001b[0m\u001b[0;34m.\u001b[0m\u001b[0mgen_LC\u001b[0m\u001b[0;34m(\u001b[0m\u001b[0mt_arr\u001b[0m\u001b[0;34m=\u001b[0m\u001b[0mtimes\u001b[0m\u001b[0;34m)\u001b[0m\u001b[0;34m\u001b[0m\u001b[0;34m\u001b[0m\u001b[0m\n\u001b[0m\u001b[1;32m    136\u001b[0m \u001b[0;34m\u001b[0m\u001b[0m\n\u001b[1;32m    137\u001b[0m     \u001b[0;31m#plot lightcurve\u001b[0m\u001b[0;34m\u001b[0m\u001b[0;34m\u001b[0m\u001b[0;34m\u001b[0m\u001b[0m\n",
      "\u001b[0;32mEightBitTransit/cTransitingImage.pyx\u001b[0m in \u001b[0;36mEightBitTransit.cTransitingImage.TransitingImage.gen_LC\u001b[0;34m()\u001b[0m\n",
      "\u001b[0;32mEightBitTransit/cGridFunctions.pyx\u001b[0m in \u001b[0;36mEightBitTransit.cGridFunctions.pixeloverlaparea\u001b[0;34m()\u001b[0m\n",
      "\u001b[0;32mEightBitTransit/cGridFunctions.pyx\u001b[0m in \u001b[0;36mEightBitTransit.cGridFunctions.pixeloverlaparea\u001b[0;34m()\u001b[0m\n",
      "\u001b[0;32m<__array_function__ internals>\u001b[0m in \u001b[0;36mamin\u001b[0;34m(*args, **kwargs)\u001b[0m\n",
      "\u001b[0;31mKeyboardInterrupt\u001b[0m: "
     ]
    }
   ],
   "source": [
    "#make EightBitTransit LC\n",
    "\n",
    "data_dir = \"./Random_LCs_tic251630511\"\n",
    "\n",
    "t_ref = 18 #time in days of transit\n",
    "\n",
    "shape = 'Triangle'\n",
    "w_or_d = 'D'\n",
    "\n",
    "#image_ratio = 2 #2 for square/circle, 1.4 for triangle widths\n",
    "\n",
    "if shape == 'Triangle':\n",
    "    image_ratios = np.array([0.07, 0.16, 0.25, 0.34, 0.43, .49]) #TRIANGLES\n",
    "    image_ratios = 1/ np.sqrt(1- 2*image_ratios)\n",
    "    image_ratio = 1.4\n",
    "\n",
    "else:\n",
    "    image_ratios = np.array([0.07, 0.16, 0.25, 0.34, 0.43, 0.52, 0.61, 0.70, 0.79, 0.88, 0.97, .99])\n",
    "    image_ratios = 1/ np.sqrt(1- image_ratios)\n",
    "    image_ratio = 2\n",
    "    \n",
    "velocities = np.array([.3, .4 , .5, .6, .7, .8, .9, 1.0, 1.2, 1.4, 1.6, 1.8])\n",
    "velocity = 0.6\n",
    "if w_or_d == 'W':\n",
    "    for velocity in velocities:\n",
    "        make_shape(image_ratio, velocity, shape, t_ref)\n",
    "elif w_or_d == 'D':\n",
    "    for image_ratio in image_ratios:\n",
    "        make_shape(image_ratio, velocity, shape, t_ref)\n"
   ]
  },
  {
   "cell_type": "code",
   "execution_count": 261,
   "metadata": {},
   "outputs": [
    {
     "name": "stdout",
     "output_type": "stream",
     "text": [
      "                                               Filename         RA        Dec  \\\n",
      "3414  tesslcs_sector_18_104/2_min_cadence_targets/te...  46.056424  56.797328   \n",
      "\n",
      "         TIC_ID  Sector  Camera  CCD  Magnitude  \n",
      "3414  251630511      18       2    4    12.8186  \n"
     ]
    }
   ],
   "source": [
    "# Mount data either from disk or bucket\n",
    "\n",
    "data_dir = \"/home/jupyter/mountpoint/\"  # path for bucket\n",
    "\n",
    "ref = loaders.load_ref(18, data_dir) #sector 18 camera 2\n",
    "\n",
    "subref = ref[ref.TIC_ID.isin([251630511])]#377199128 # overplot with this anomalous\n",
    "print(subref)"
   ]
  },
  {
   "cell_type": "code",
   "execution_count": 262,
   "metadata": {},
   "outputs": [
    {
     "data": {
      "image/png": "[encoded data removed]",
      "text/plain": [
       "<Figure size 432x288 with 1 Axes>"
      ]
     },
     "metadata": {
      "needs_background": "light"
     },
     "output_type": "display_data"
    }
   ],
   "source": [
    "#inject into TESS data\n",
    "shape = 'Triangle'#'Circle'\n",
    "index= 0\n",
    "velocity = 0.6#velocity\n",
    "image_ratio = 1.4 #image_ratio\n",
    "w_or_d = 'D'\n",
    "\n",
    "if w_or_d == 'W':\n",
    "    for velocity in velocities:\n",
    "        image_ratio = str(image_ratio)\n",
    "        velocity = str(velocity)\n",
    "        make_lc(shape, image_ratio, velocity, index)\n",
    "if w_or_d == 'D':\n",
    "    for image_ratio in image_ratios:\n",
    "        image_ratio = str(image_ratio)\n",
    "        velocity = str(velocity)\n",
    "        make_lc(shape, image_ratio, velocity, index)\n",
    "\n",
    "plt.show()"
   ]
  },
  {
   "cell_type": "code",
   "execution_count": 74,
   "metadata": {},
   "outputs": [
    {
     "data": {
      "image/png": "[encoded data removed]",
      "text/plain": [
       "<Figure size 432x288 with 1 Axes>"
      ]
     },
     "metadata": {
      "needs_background": "light"
     },
     "output_type": "display_data"
    }
   ],
   "source": [
    "#check any previously run lcs\n",
    "\n",
    "noise = pd.read_csv('/home/jupyter/SPOcc/spocc/notebooks/Random_LCs_tic251630511/Class_Circle/Circle_ratio_2_velocity_0.6_ld.csv')\n",
    "\n",
    "sim_time = noise.iloc[:,0].values\n",
    "sim_flux = noise.iloc[:,1].values\n",
    "\n",
    "\n",
    "plt.scatter(sim_time, sim_flux, label = \"ld\")\n",
    "plt.title(\"Flux From 8BT\")\n",
    "\n",
    "noise = pd.read_csv('/home/jupyter/SPOcc/spocc/notebooks/Random_LCs_tic251630511/Class_Circle/Circle_ratio_2_velocity_0.6.csv')\n",
    "\n",
    "sim_time = noise.iloc[:,0].values\n",
    "sim_flux = noise.iloc[:,1].values\n",
    "\n",
    "\n",
    "plt.scatter(sim_time, sim_flux, label = \"w/o ld\")\n",
    "plt.title(\"Flux From 8BT\")\n",
    "plt.legend()\n",
    "plt.show()"
   ]
  },
  {
   "cell_type": "code",
   "execution_count": 66,
   "metadata": {},
   "outputs": [
    {
     "data": {
      "image/png": "[encoded data removed]",
      "text/plain": [
       "<Figure size 432x288 with 1 Axes>"
      ]
     },
     "metadata": {
      "needs_background": "light"
     },
     "output_type": "display_data"
    }
   ],
   "source": [
    "#compare TIC 377199128 with shapes\n",
    "subref = ref[ref.TIC_ID==377199128] \n",
    "f0 = data_dir+subref.Filename.values[index]\n",
    "lc = loaders.load_lc(f0)\n",
    "lc = lc[lc.quality==0]\n",
    "lc = lc.normalize()\n",
    "#print(f0)\n",
    "#print(flux_err[0])\n",
    "#print(lc.time.value)\n",
    "time = lc.time.value\n",
    "time = [value - time[0] +2.8 for value in time] #make time start at 0\n",
    "plt.plot(time, lc.flux.value, label = \"TIC 377199128\")\n",
    "\n",
    "file = \"Square_ratio_3_velocity_0.8.csv\"\n",
    "df = pd.read_csv('/home/jupyter/SPOcc/examples/EightBitTransit/examples/Injected_LCs/'+ file)\n",
    "flux = df['Flux'] \n",
    "plt.plot(df['Time'], flux, label = file[:-4])\n",
    "\n",
    "\n",
    "\n",
    "\n",
    "plt.title(\"Comparison to \" + str(file[:-25]))\n",
    "\n",
    "\n",
    "plt.ylim(.8, 1.1)\n",
    "plt.xlim(15,22)\n",
    "plt.legend(loc = 'lower left')\n",
    "plt.show()\n"
   ]
  },
  {
   "cell_type": "code",
   "execution_count": 37,
   "metadata": {},
   "outputs": [
    {
     "name": "stdout",
     "output_type": "stream",
     "text": [
      "0\n"
     ]
    },
    {
     "data": {
      "image/png": "[encoded data removed]",
      "text/plain": [
       "<Figure size 432x288 with 1 Axes>"
      ]
     },
     "metadata": {
      "needs_background": "light"
     },
     "output_type": "display_data"
    }
   ],
   "source": [
    "#look at bare lightcurves\n",
    "import pandas as pd\n",
    "subref = ref[ref.TIC_ID==453152796] \n",
    "f0 = data_dir+subref.Filename.values[index]\n",
    "lc = loaders.load_lc(f0)\n",
    "lc = lc[lc.quality==0]\n",
    "lc = lc.normalize()\n",
    "#print(f0)\n",
    "#print(flux_err[0])\n",
    "#print(lc.time.value)\n",
    "time = lc.time.value\n",
    "time = [value - time[0] +2.8 for value in time] #make time start at 0\n",
    "plt.plot(time, lc.flux.value, label = \"TIC 453152796\")\n",
    "\n",
    "#df = pd.Dataframe({'Time': time, 'Flux': lc.flux.value})\n",
    "#print(df)\n",
    "print(index)"
   ]
  },
  {
   "cell_type": "code",
   "execution_count": null,
   "metadata": {},
   "outputs": [],
   "source": []
  }
 ],
 "metadata": {
  "environment": {
   "kernel": "spocc",
   "name": "common-cpu.m108",
   "type": "gcloud",
   "uri": "gcr.io/deeplearning-platform-release/base-cpu:m108"
  },
  "kernelspec": {
   "display_name": "spocc",
   "language": "python",
   "name": "spocc"
  },
  "language_info": {
   "codemirror_mode": {
    "name": "ipython",
    "version": 3
   },
   "file_extension": ".py",
   "mimetype": "text/x-python",
   "name": "python",
   "nbconvert_exporter": "python",
   "pygments_lexer": "ipython3",
   "version": "3.6.15"
  }
 },
 "nbformat": 4,
 "nbformat_minor": 4
}
